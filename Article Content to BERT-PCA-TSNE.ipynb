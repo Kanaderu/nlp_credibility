{
 "cells": [
  {
   "cell_type": "code",
   "execution_count": null,
   "metadata": {},
   "outputs": [],
   "source": [
    "'''\n",
    "# GPU BEGONE!\n",
    "import os\n",
    "os.environ['LD_LIBRARY_PATH'] = '/usr/lib/x86_64-linux-gnu:/usr/lib/x86_64-linux-gnu'\n",
    "os.environ['PATH'] = '/home/fandav/.local/bin:/bin:/usr/local/sbin:/usr/local/bin:/usr/sbin:/usr/bin:/opt/anaconda3/envs/jupyter/bin:/opt/anaconda3/bin/:/snap/bin'\n",
    "os.environ['CUDA_VISIBLE_DEVICES'] = '-1'\n",
    "os.environ\n",
    "'''"
   ]
  },
  {
   "cell_type": "code",
   "execution_count": 2,
   "metadata": {},
   "outputs": [],
   "source": [
    "import tensorflow as tf\n",
    "from transformers import BertTokenizer, TFBertModel\n",
    "import numpy as np\n",
    "import pandas as pd\n",
    "\n",
    "# To find out which devices your operations and tensors are assigned to\n",
    "tf.debugging.set_log_device_placement(True)"
   ]
  },
  {
   "cell_type": "code",
   "execution_count": 3,
   "metadata": {},
   "outputs": [],
   "source": [
    "config = tf.compat.v1.ConfigProto()\n",
    "config.gpu_options.allow_growth = True\n",
    "sess = tf.compat.v1.Session(config=config)"
   ]
  },
  {
   "cell_type": "code",
   "execution_count": 4,
   "metadata": {},
   "outputs": [
    {
     "data": {
      "text/plain": [
       "'\\nfrom tensorflow.compat.v1 import ConfigProto\\nfrom tensorflow.compat.v1 import InteractiveSession\\n\\nconfig = ConfigProto()\\nconfig.gpu_options.allow_growth = True\\nsession = InteractiveSession(config=config)\\n'"
      ]
     },
     "execution_count": 4,
     "metadata": {},
     "output_type": "execute_result"
    }
   ],
   "source": [
    "'''\n",
    "from tensorflow.compat.v1 import ConfigProto\n",
    "from tensorflow.compat.v1 import InteractiveSession\n",
    "\n",
    "config = ConfigProto()\n",
    "config.gpu_options.allow_growth = True\n",
    "session = InteractiveSession(config=config)\n",
    "'''"
   ]
  },
  {
   "cell_type": "code",
   "execution_count": 5,
   "metadata": {},
   "outputs": [
    {
     "name": "stdout",
     "output_type": "stream",
     "text": [
      "1 Physical CPUs, 1 Logical CPUs\n"
     ]
    }
   ],
   "source": [
    "physical_cpus = tf.config.list_physical_devices('CPU') \n",
    "logical_cpus = tf.config.list_logical_devices('GPU')\n",
    "print(len(physical_cpus), \"Physical CPUs,\", len(logical_cpus), \"Logical CPUs\")"
   ]
  },
  {
   "cell_type": "code",
   "execution_count": 6,
   "metadata": {},
   "outputs": [
    {
     "data": {
      "text/plain": [
       "'\\ngpus = tf.config.list_physical_devices(\\'GPU\\')\\nif gpus:\\n    try:\\n        for gpu in gpus:\\n            tf.config.experimental.set_memory_growth(gpu, True)\\n            logical_gpus = tf.config.list_logical_devices(\\'GPU\\')\\n            print(len(gpus), \"Physical GPUs,\", len(logical_gpus), \"Logical GPUs\")\\n    except RuntimeError as e:\\n        print(e)\\n'"
      ]
     },
     "execution_count": 6,
     "metadata": {},
     "output_type": "execute_result"
    }
   ],
   "source": [
    "'''\n",
    "gpus = tf.config.list_physical_devices('GPU')\n",
    "if gpus:\n",
    "    try:\n",
    "        for gpu in gpus:\n",
    "            tf.config.experimental.set_memory_growth(gpu, True)\n",
    "            logical_gpus = tf.config.list_logical_devices('GPU')\n",
    "            print(len(gpus), \"Physical GPUs,\", len(logical_gpus), \"Logical GPUs\")\n",
    "    except RuntimeError as e:\n",
    "        print(e)\n",
    "'''"
   ]
  },
  {
   "cell_type": "code",
   "execution_count": null,
   "metadata": {},
   "outputs": [],
   "source": [
    "# tokenizer\n",
    "tokenizer = BertTokenizer.from_pretrained('bert-base-uncased');\n",
    "\n",
    "# model\n",
    "model = TFBertModel.from_pretrained('bert-base-uncased');\n",
    "model.summary()"
   ]
  },
  {
   "cell_type": "code",
   "execution_count": null,
   "metadata": {},
   "outputs": [],
   "source": [
    "dataset = pd.read_csv('dataset.csv', index_col=0)\n",
    "#display(dataset.loc['Content'].values)"
   ]
  },
  {
   "cell_type": "code",
   "execution_count": null,
   "metadata": {},
   "outputs": [],
   "source": [
    "# grab content\n",
    "dataset_content = dataset.loc['Content'].fillna('').values\n",
    "#print(dataset_content)\n",
    "\n",
    "# process content through BERT\n",
    "encoded_strings = [tokenizer.encode(content, max_length=512, pad_to_max_length=True) for content in dataset_content]\n",
    "encoded_vectors = tf.constant(encoded_strings)\n",
    "outputs = model(encoded_vectors)\n",
    "\n",
    "# obtain per line embeddings from all the artibles from BERT\n",
    "last_hidden_states = outputs[0]\n",
    "\n",
    "# obtain article embeddings from BERT\n",
    "article_embeddings = outputs[1]\n",
    "\n",
    "print(np.shape(outputs))\n",
    "print(np.shape(outputs[0]))\n",
    "print(np.shape(outputs[1]))"
   ]
  },
  {
   "cell_type": "code",
   "execution_count": null,
   "metadata": {},
   "outputs": [],
   "source": [
    "_, num_articles = np.shape(outputs)\n",
    "article_names = [f'Article {idx}' for idx in range(num_articles)]"
   ]
  },
  {
   "cell_type": "markdown",
   "metadata": {},
   "source": [
    "# Look at some dimensionality reduction plots"
   ]
  },
  {
   "cell_type": "code",
   "execution_count": null,
   "metadata": {},
   "outputs": [],
   "source": [
    "import matplotlib.pyplot as plt\n",
    "#%matplotlib widget\n",
    "import seaborn as sns\n",
    "from sklearn.manifold import TSNE\n",
    "from sklearn.decomposition import PCA\n",
    "import pandas as pd"
   ]
  },
  {
   "cell_type": "code",
   "execution_count": null,
   "metadata": {},
   "outputs": [],
   "source": [
    "# vector embeddings of each token\n",
    "vec_embeddings = article_embeddings.numpy()\n",
    "\n",
    "# color for each token for visuals\n",
    "token_color = [np.random.rand(3,) for _ in range(num_articles)]"
   ]
  },
  {
   "cell_type": "code",
   "execution_count": null,
   "metadata": {},
   "outputs": [],
   "source": [
    "pca = PCA(n_components=2)\n",
    "pca_result = pca.fit_transform(vec_embeddings)\n",
    "print(np.shape(pca_result))"
   ]
  },
  {
   "cell_type": "code",
   "execution_count": null,
   "metadata": {},
   "outputs": [],
   "source": [
    "df = pd.DataFrame(pca_result, columns=['pca_0', 'pca_1'], index=article_names)\n",
    "display(df)"
   ]
  },
  {
   "cell_type": "code",
   "execution_count": null,
   "metadata": {},
   "outputs": [],
   "source": [
    "plt.figure(figsize=(16,8))\n",
    "sns.scatterplot(\n",
    "    x='pca_0', y='pca_1',\n",
    "    data=df,\n",
    "    legend='full'\n",
    ")\n",
    "plt.grid()\n",
    "\n",
    "ax = plt.gca()\n",
    "for (k, v), color in zip(df.iterrows(), token_color):\n",
    "    ax.annotate(k, v, c=color)\n",
    "\n",
    "#for idx, (article, color) in enumerate(zip(article_names, token_color)):\n",
    "#    plt.text(-7 + idx*1, -10, article, fontsize='medium', color=color)"
   ]
  },
  {
   "cell_type": "code",
   "execution_count": null,
   "metadata": {},
   "outputs": [],
   "source": [
    "tsne = TSNE(n_components=2, perplexity=40, n_iter=300)\n",
    "tsne_results = tsne.fit_transform(vec_embeddings)\n",
    "print(np.shape(tsne_results))"
   ]
  },
  {
   "cell_type": "code",
   "execution_count": null,
   "metadata": {},
   "outputs": [],
   "source": [
    "df = pd.DataFrame(tsne_results, columns=['tsne_0', 'tsne_1'], index=article_names)\n",
    "display(df)"
   ]
  },
  {
   "cell_type": "code",
   "execution_count": null,
   "metadata": {},
   "outputs": [],
   "source": [
    "plt.figure(figsize=(16,8))\n",
    "sns.scatterplot(\n",
    "    x=\"tsne_0\", y=\"tsne_1\",\n",
    "    data=df,\n",
    "    legend=\"full\"\n",
    ")\n",
    "plt.grid()\n",
    "\n",
    "ax = plt.gca()\n",
    "for (k, v), color in zip(df.iterrows(), token_color):\n",
    "    ax.annotate(k, v, c=color)\n",
    "\n",
    "#for idx, (token, color) in enumerate(zip(tokens, token_color)):\n",
    "#    plt.text(-400 + idx*50, -400, token, fontsize='medium', color=color)"
   ]
  },
  {
   "cell_type": "markdown",
   "metadata": {},
   "source": [
    "# Dimensionality Reduction projection into 3D space"
   ]
  },
  {
   "cell_type": "code",
   "execution_count": null,
   "metadata": {},
   "outputs": [],
   "source": [
    "from matplotlib import pyplot as plt\n",
    "from mpl_toolkits.mplot3d import Axes3D"
   ]
  },
  {
   "cell_type": "code",
   "execution_count": null,
   "metadata": {},
   "outputs": [],
   "source": [
    "pca = PCA(n_components=3)\n",
    "pca_result = pca.fit_transform(vec_embeddings)\n",
    "print(np.shape(pca_result))"
   ]
  },
  {
   "cell_type": "code",
   "execution_count": null,
   "metadata": {},
   "outputs": [],
   "source": [
    "df = pd.DataFrame(pca_result, columns=['pca_0', 'pca_1', 'pca_2'], index=article_names)\n",
    "display(df)"
   ]
  },
  {
   "cell_type": "code",
   "execution_count": null,
   "metadata": {},
   "outputs": [],
   "source": [
    "fig = plt.figure()\n",
    "ax = Axes3D(fig)\n",
    "\n",
    "ax.scatter(df['pca_0'], df['pca_1'], df['pca_2'], c=token_color)\n",
    "plt.grid()"
   ]
  },
  {
   "cell_type": "code",
   "execution_count": null,
   "metadata": {},
   "outputs": [],
   "source": [
    "print(np.shape(vec_embeddings))"
   ]
  },
  {
   "cell_type": "markdown",
   "metadata": {},
   "source": [
    "# Training Data"
   ]
  },
  {
   "cell_type": "code",
   "execution_count": null,
   "metadata": {},
   "outputs": [],
   "source": [
    "from tensorflow.keras.models import Sequential\n",
    "from tensorflow.keras.layers import Dense, Conv2D, Flatten, Dropout, MaxPooling2D, Conv1D, MaxPooling1D, InputLayer, Input"
   ]
  },
  {
   "cell_type": "code",
   "execution_count": null,
   "metadata": {},
   "outputs": [],
   "source": [
    "originality_scores = list(map(int, dataset.loc['Originality Score'].values))\n",
    "print(f'Num Originality Scores = {len(originality_scores)}')\n",
    "print(originality_scores)"
   ]
  },
  {
   "cell_type": "code",
   "execution_count": null,
   "metadata": {},
   "outputs": [],
   "source": [
    "model = Sequential([\n",
    "    Input(shape=(768,), name='input'),\n",
    "    Dense(64, activation='relu', name='dense_0'),\n",
    "    Dense(64, activation='relu', name='dense_1'),\n",
    "    Dense(1000, name='dense_2'),\n",
    "])\n",
    "model.summary()"
   ]
  },
  {
   "cell_type": "code",
   "execution_count": null,
   "metadata": {},
   "outputs": [],
   "source": [
    "'''\n",
    "inputs = tf.keras.Input(shape=(768,), name='digits')\n",
    "x = tf.keras.layers.Dense(64, activation='relu', name='dense_1')(inputs)\n",
    "x = tf.keras.layers.Dense(64, activation='relu', name='dense_2')(x)\n",
    "x = tf.keras.layers.Dense(1000, name='predictions')(x)\n",
    "#outputs = tf.keras.layers.Softmax()(x)\n",
    "outputs = x;\n",
    "\n",
    "\n",
    "model = tf.keras.Model(inputs=inputs, outputs=outputs);\n",
    "model.summary()\n",
    "'''"
   ]
  },
  {
   "cell_type": "code",
   "execution_count": null,
   "metadata": {},
   "outputs": [],
   "source": [
    "print(num_articles)\n",
    "num_input_articles = 40\n",
    "num_test_articles = num_articles - num_input_articles"
   ]
  },
  {
   "cell_type": "code",
   "execution_count": null,
   "metadata": {},
   "outputs": [],
   "source": [
    "input_vectors = vec_embeddings[:num_input_articles]\n",
    "print(np.shape(input_vectors))\n",
    "\n",
    "x_train = np.asarray(input_vectors)\n",
    "print(x_train.shape)\n",
    "\n",
    "output_vectors = np.array([originality_scores[i] for i in range(num_input_articles)])\n",
    "print(np.shape(output_vectors))\n",
    "\n",
    "y_train = output_vectors"
   ]
  },
  {
   "cell_type": "code",
   "execution_count": null,
   "metadata": {},
   "outputs": [],
   "source": [
    "model.compile(optimizer=tf.keras.optimizers.RMSprop(),  # Optimizer\n",
    "              # Loss function to minimize\n",
    "              loss=tf.keras.losses.SparseCategoricalCrossentropy(from_logits=True),\n",
    "              # List of metrics to monitor\n",
    "              metrics=['accuracy'])\n",
    "\n",
    "print('# Fit model on training data')\n",
    "history = model.fit(x_train, y_train,\n",
    "                    batch_size=10,\n",
    "                    epochs=1500,)\n",
    "                    # We pass some validation for\n",
    "                    # monitoring validation loss and metrics\n",
    "                    # at the end of each epoch\n",
    "                    #validation_data=(x_val, y_val))\n",
    "\n",
    "print('\\nhistory dict:', history.history)"
   ]
  },
  {
   "cell_type": "code",
   "execution_count": null,
   "metadata": {},
   "outputs": [],
   "source": [
    "x_test = vec_embeddings[num_input_articles:]\n",
    "y_test = np.array([originality_scores[i] for i in range(num_input_articles, num_articles)])\n",
    "test_loss, test_acc = model.evaluate(x_test,  y_test, verbose=2)"
   ]
  }
 ],
 "metadata": {
  "kernelspec": {
   "display_name": "nlp",
   "language": "python",
   "name": "nlp"
  },
  "language_info": {
   "codemirror_mode": {
    "name": "ipython",
    "version": 3
   },
   "file_extension": ".py",
   "mimetype": "text/x-python",
   "name": "python",
   "nbconvert_exporter": "python",
   "pygments_lexer": "ipython3",
   "version": "3.8.1"
  }
 },
 "nbformat": 4,
 "nbformat_minor": 4
}
