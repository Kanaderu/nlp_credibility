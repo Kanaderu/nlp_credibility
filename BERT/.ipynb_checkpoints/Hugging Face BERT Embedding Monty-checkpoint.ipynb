{
 "cells": [
  {
   "cell_type": "code",
   "execution_count": 1,
   "metadata": {},
   "outputs": [],
   "source": [
    "import torch\n",
    "from transformers import BertTokenizer, BertModel#, BertForMaskedLM\n",
    "import numpy as np\n",
    "from nltk.book import *"
   ]
  },
  {
   "cell_type": "code",
   "execution_count": 2,
   "metadata": {},
   "outputs": [],
   "source": [
    "# tokenizer\n",
    "tokenizer = BertTokenizer.from_pretrained('bert-base-uncased')\n",
    "\n",
    "# model\n",
    "model = BertModel.from_pretrained('bert-base-uncased')\n",
    "\n",
    "input_string = \"The bank robber stopped by the bank. The bank happened to be along the sea bank\"\n",
    "encoded_string = tokenizer.encode(input_string)\n",
    "encoded_vector = torch.tensor(encoded_string)\n",
    "\n",
    "#input_ids = torch.tensor(tokenizer.encode(\"Hello, my dog is cute\")).unsqueeze(0)  # Batch size 1\n",
    "input_ids = encoded_vector.unsqueeze(0) # arraysize 1 for 1 string\n",
    "\n",
    "# run model on input\n",
    "outputs = model(input_ids)\n",
    "last_hidden_states = outputs[0]  # The last hidden-state is the first element of the output tuple"
   ]
  },
  {
   "cell_type": "code",
   "execution_count": 3,
   "metadata": {},
   "outputs": [
    {
     "data": {
      "text/plain": [
       "30522"
      ]
     },
     "execution_count": 3,
     "metadata": {},
     "output_type": "execute_result"
    }
   ],
   "source": [
    "len(tokenizer.vocab)"
   ]
  },
  {
   "cell_type": "code",
   "execution_count": 4,
   "metadata": {},
   "outputs": [
    {
     "name": "stdout",
     "output_type": "stream",
     "text": [
      "input_string: The bank robber stopped by the bank. The bank happened to be along the sea bank\n",
      "\n",
      "(19,) encoded_string: [101, 1996, 2924, 27307, 3030, 2011, 1996, 2924, 1012, 1996, 2924, 3047, 2000, 2022, 2247, 1996, 2712, 2924, 102]\n",
      "\n",
      "torch.Size([19]) encoded_vector: tensor([  101,  1996,  2924, 27307,  3030,  2011,  1996,  2924,  1012,  1996,\n",
      "         2924,  3047,  2000,  2022,  2247,  1996,  2712,  2924,   102])\n",
      "\n",
      "torch.Size([1, 19]) input_ids: tensor([[  101,  1996,  2924, 27307,  3030,  2011,  1996,  2924,  1012,  1996,\n",
      "          2924,  3047,  2000,  2022,  2247,  1996,  2712,  2924,   102]])\n",
      "\n",
      "\n",
      "Tokens:\n",
      "['[CLS]', 'the', 'bank', 'robber', 'stopped', 'by', 'the', 'bank', '.', 'the', 'bank', 'happened', 'to', 'be', 'along', 'the', 'sea', 'bank', '[SEP]']\n",
      "Embeddings:\n",
      "tensor([[-0.3348, -0.5901, -0.0709,  ..., -0.4969, -0.0981,  0.5151],\n",
      "        [ 0.0384, -0.8923, -0.4894,  ..., -0.0810,  1.4962, -0.2147],\n",
      "        [ 0.9223, -0.5738,  0.2019,  ..., -0.3166,  0.0873, -0.1818],\n",
      "        ...,\n",
      "        [ 0.3919, -0.4740,  0.9080,  ..., -0.1704,  0.3205, -0.2902],\n",
      "        [-0.1079, -0.7413, -0.2294,  ...,  0.3517, -0.0370,  0.1479],\n",
      "        [ 0.6683,  0.0867, -0.3783,  ..., -0.0460, -0.3937, -0.2304]],\n",
      "       grad_fn=<SqueezeBackward0>)\n",
      "index locations of \"bank\": [2, 7, 10, 17]\n"
     ]
    }
   ],
   "source": [
    "print(f'input_string: {input_string}')\n",
    "print()\n",
    "print(f'{np.shape(encoded_string)} encoded_string: {encoded_string}')\n",
    "print()\n",
    "print(f'{encoded_vector.size()} encoded_vector: {encoded_vector}')\n",
    "print()\n",
    "print(f'{input_ids.size()} input_ids: {input_ids}')\n",
    "print()\n",
    "#print(f'({outputs[0].size()}, {outputs[1].size()})outputs: {outputs}')\n",
    "print()\n",
    "\n",
    "print('Tokens:')\n",
    "tokens = tokenizer.convert_ids_to_tokens(input_ids.squeeze())\n",
    "print(tokens)\n",
    "\n",
    "print('Embeddings:')\n",
    "embeddings = outputs[0].squeeze()\n",
    "print(embeddings)\n",
    "\n",
    "#print('Tokens -> Embeddings Pair')\n",
    "#for word, vec in zip(tokens, embeddings):\n",
    "#    print(word, vec.detach().numpy()[:5])\n",
    "\n",
    "\n",
    "# locate occurances of bank\n",
    "indices = [i for i, token in enumerate(tokens) if token == \"bank\"]\n",
    "print(f'index locations of \"bank\": {indices}')"
   ]
  },
  {
   "cell_type": "code",
   "execution_count": 5,
   "metadata": {},
   "outputs": [],
   "source": [
    "import matplotlib.pyplot as plt\n",
    "import seaborn as sns\n",
    "from sklearn.manifold import TSNE\n",
    "from sklearn.decomposition import PCA\n",
    "import pandas as pd"
   ]
  },
  {
   "cell_type": "code",
   "execution_count": 6,
   "metadata": {},
   "outputs": [],
   "source": [
    "# vector embeddings of each token\n",
    "vec_embeddings = embeddings.detach().numpy()\n",
    "\n",
    "# color for each token for visuals\n",
    "token_color = [np.random.rand(3,) for _ in range(len(tokens))]"
   ]
  },
  {
   "cell_type": "code",
   "execution_count": 46,
   "metadata": {},
   "outputs": [
    {
     "name": "stdout",
     "output_type": "stream",
     "text": [
      "(19, 2)\n"
     ]
    }
   ],
   "source": [
    "pca = PCA(n_components=2)\n",
    "pca_result = pca.fit_transform(vec_embeddings)\n",
    "print(np.shape(pca_result))"
   ]
  },
  {
   "cell_type": "code",
   "execution_count": 47,
   "metadata": {},
   "outputs": [
    {
     "data": {
      "text/html": [
       "<div>\n",
       "<style scoped>\n",
       "    .dataframe tbody tr th:only-of-type {\n",
       "        vertical-align: middle;\n",
       "    }\n",
       "\n",
       "    .dataframe tbody tr th {\n",
       "        vertical-align: top;\n",
       "    }\n",
       "\n",
       "    .dataframe thead th {\n",
       "        text-align: right;\n",
       "    }\n",
       "</style>\n",
       "<table border=\"1\" class=\"dataframe\">\n",
       "  <thead>\n",
       "    <tr style=\"text-align: right;\">\n",
       "      <th></th>\n",
       "      <th>pca_0</th>\n",
       "      <th>pca_1</th>\n",
       "    </tr>\n",
       "  </thead>\n",
       "  <tbody>\n",
       "    <tr>\n",
       "      <th>[CLS]</th>\n",
       "      <td>-0.756360</td>\n",
       "      <td>3.959695</td>\n",
       "    </tr>\n",
       "    <tr>\n",
       "      <th>the</th>\n",
       "      <td>-0.886326</td>\n",
       "      <td>-3.223431</td>\n",
       "    </tr>\n",
       "    <tr>\n",
       "      <th>bank</th>\n",
       "      <td>-4.370698</td>\n",
       "      <td>4.563889</td>\n",
       "    </tr>\n",
       "    <tr>\n",
       "      <th>robber</th>\n",
       "      <td>-2.621517</td>\n",
       "      <td>0.407359</td>\n",
       "    </tr>\n",
       "    <tr>\n",
       "      <th>stopped</th>\n",
       "      <td>-0.701431</td>\n",
       "      <td>-3.836802</td>\n",
       "    </tr>\n",
       "    <tr>\n",
       "      <th>by</th>\n",
       "      <td>-1.159815</td>\n",
       "      <td>-3.610240</td>\n",
       "    </tr>\n",
       "    <tr>\n",
       "      <th>the</th>\n",
       "      <td>-1.387350</td>\n",
       "      <td>-5.158099</td>\n",
       "    </tr>\n",
       "    <tr>\n",
       "      <th>bank</th>\n",
       "      <td>-4.821452</td>\n",
       "      <td>7.203232</td>\n",
       "    </tr>\n",
       "    <tr>\n",
       "      <th>.</th>\n",
       "      <td>13.171353</td>\n",
       "      <td>2.298310</td>\n",
       "    </tr>\n",
       "    <tr>\n",
       "      <th>the</th>\n",
       "      <td>-1.399561</td>\n",
       "      <td>-6.113226</td>\n",
       "    </tr>\n",
       "    <tr>\n",
       "      <th>bank</th>\n",
       "      <td>-4.533241</td>\n",
       "      <td>6.526653</td>\n",
       "    </tr>\n",
       "    <tr>\n",
       "      <th>happened</th>\n",
       "      <td>0.165262</td>\n",
       "      <td>-6.145317</td>\n",
       "    </tr>\n",
       "    <tr>\n",
       "      <th>to</th>\n",
       "      <td>-0.934597</td>\n",
       "      <td>-6.609595</td>\n",
       "    </tr>\n",
       "    <tr>\n",
       "      <th>be</th>\n",
       "      <td>-1.055155</td>\n",
       "      <td>-2.985507</td>\n",
       "    </tr>\n",
       "    <tr>\n",
       "      <th>along</th>\n",
       "      <td>-0.650608</td>\n",
       "      <td>1.389193</td>\n",
       "    </tr>\n",
       "    <tr>\n",
       "      <th>the</th>\n",
       "      <td>-1.052866</td>\n",
       "      <td>-2.516069</td>\n",
       "    </tr>\n",
       "    <tr>\n",
       "      <th>sea</th>\n",
       "      <td>-1.482029</td>\n",
       "      <td>5.509776</td>\n",
       "    </tr>\n",
       "    <tr>\n",
       "      <th>bank</th>\n",
       "      <td>0.344269</td>\n",
       "      <td>6.320639</td>\n",
       "    </tr>\n",
       "    <tr>\n",
       "      <th>[SEP]</th>\n",
       "      <td>14.132118</td>\n",
       "      <td>2.019541</td>\n",
       "    </tr>\n",
       "  </tbody>\n",
       "</table>\n",
       "</div>"
      ],
      "text/plain": [
       "              pca_0     pca_1\n",
       "[CLS]     -0.756360  3.959695\n",
       "the       -0.886326 -3.223431\n",
       "bank      -4.370698  4.563889\n",
       "robber    -2.621517  0.407359\n",
       "stopped   -0.701431 -3.836802\n",
       "by        -1.159815 -3.610240\n",
       "the       -1.387350 -5.158099\n",
       "bank      -4.821452  7.203232\n",
       ".         13.171353  2.298310\n",
       "the       -1.399561 -6.113226\n",
       "bank      -4.533241  6.526653\n",
       "happened   0.165262 -6.145317\n",
       "to        -0.934597 -6.609595\n",
       "be        -1.055155 -2.985507\n",
       "along     -0.650608  1.389193\n",
       "the       -1.052866 -2.516069\n",
       "sea       -1.482029  5.509776\n",
       "bank       0.344269  6.320639\n",
       "[SEP]     14.132118  2.019541"
      ]
     },
     "metadata": {},
     "output_type": "display_data"
    }
   ],
   "source": [
    "df = pd.DataFrame(pca_result, columns=['pca_0', 'pca_1'], index=tokens)\n",
    "display(df)"
   ]
  },
  {
   "cell_type": "code",
   "execution_count": 48,
   "metadata": {},
   "outputs": [
    {
     "data": {
      "image/png": "[encoded data removed]",
      "text/plain": [
       "<Figure size 1152x576 with 1 Axes>"
      ]
     },
     "metadata": {
      "needs_background": "light"
     },
     "output_type": "display_data"
    }
   ],
   "source": [
    "plt.figure(figsize=(16,8))\n",
    "sns.scatterplot(\n",
    "    x='pca_0', y='pca_1',\n",
    "    data=df,\n",
    "    legend='full'\n",
    ")\n",
    "plt.grid()\n",
    "\n",
    "ax = plt.gca()\n",
    "for (k, v), color in zip(df.iterrows(), token_color):\n",
    "    ax.annotate(k, v, c=color)\n",
    "\n",
    "for idx, (token, color) in enumerate(zip(tokens, token_color)):\n",
    "    plt.text(-7 + idx*1, -10, token, fontsize='medium', color=color)"
   ]
  },
  {
   "cell_type": "code",
   "execution_count": 36,
   "metadata": {},
   "outputs": [
    {
     "name": "stdout",
     "output_type": "stream",
     "text": [
      "(19, 2)\n"
     ]
    }
   ],
   "source": [
    "tsne = TSNE(n_components=2, perplexity=40, n_iter=300)\n",
    "tsne_results = tsne.fit_transform(vec_embeddings)\n",
    "print(np.shape(tsne_results))"
   ]
  },
  {
   "cell_type": "code",
   "execution_count": 37,
   "metadata": {},
   "outputs": [
    {
     "data": {
      "text/html": [
       "<div>\n",
       "<style scoped>\n",
       "    .dataframe tbody tr th:only-of-type {\n",
       "        vertical-align: middle;\n",
       "    }\n",
       "\n",
       "    .dataframe tbody tr th {\n",
       "        vertical-align: top;\n",
       "    }\n",
       "\n",
       "    .dataframe thead th {\n",
       "        text-align: right;\n",
       "    }\n",
       "</style>\n",
       "<table border=\"1\" class=\"dataframe\">\n",
       "  <thead>\n",
       "    <tr style=\"text-align: right;\">\n",
       "      <th></th>\n",
       "      <th>tsne_0</th>\n",
       "      <th>tsne_1</th>\n",
       "    </tr>\n",
       "  </thead>\n",
       "  <tbody>\n",
       "    <tr>\n",
       "      <th>[CLS]</th>\n",
       "      <td>199.678940</td>\n",
       "      <td>61.658314</td>\n",
       "    </tr>\n",
       "    <tr>\n",
       "      <th>the</th>\n",
       "      <td>-430.432190</td>\n",
       "      <td>45.061382</td>\n",
       "    </tr>\n",
       "    <tr>\n",
       "      <th>bank</th>\n",
       "      <td>91.372826</td>\n",
       "      <td>-58.219788</td>\n",
       "    </tr>\n",
       "    <tr>\n",
       "      <th>robber</th>\n",
       "      <td>-21.180012</td>\n",
       "      <td>-292.097412</td>\n",
       "    </tr>\n",
       "    <tr>\n",
       "      <th>stopped</th>\n",
       "      <td>105.225029</td>\n",
       "      <td>-170.360413</td>\n",
       "    </tr>\n",
       "    <tr>\n",
       "      <th>by</th>\n",
       "      <td>-68.107330</td>\n",
       "      <td>-100.020874</td>\n",
       "    </tr>\n",
       "    <tr>\n",
       "      <th>the</th>\n",
       "      <td>19.358192</td>\n",
       "      <td>-113.914780</td>\n",
       "    </tr>\n",
       "    <tr>\n",
       "      <th>bank</th>\n",
       "      <td>94.261475</td>\n",
       "      <td>102.464714</td>\n",
       "    </tr>\n",
       "    <tr>\n",
       "      <th>.</th>\n",
       "      <td>142.263077</td>\n",
       "      <td>4.128197</td>\n",
       "    </tr>\n",
       "    <tr>\n",
       "      <th>the</th>\n",
       "      <td>22.080217</td>\n",
       "      <td>190.453293</td>\n",
       "    </tr>\n",
       "    <tr>\n",
       "      <th>bank</th>\n",
       "      <td>-1.791644</td>\n",
       "      <td>90.480835</td>\n",
       "    </tr>\n",
       "    <tr>\n",
       "      <th>happened</th>\n",
       "      <td>4.740256</td>\n",
       "      <td>-2.591319</td>\n",
       "    </tr>\n",
       "    <tr>\n",
       "      <th>to</th>\n",
       "      <td>-110.625603</td>\n",
       "      <td>216.657822</td>\n",
       "    </tr>\n",
       "    <tr>\n",
       "      <th>be</th>\n",
       "      <td>-220.134689</td>\n",
       "      <td>85.620628</td>\n",
       "    </tr>\n",
       "    <tr>\n",
       "      <th>along</th>\n",
       "      <td>-156.217972</td>\n",
       "      <td>-72.830948</td>\n",
       "    </tr>\n",
       "    <tr>\n",
       "      <th>the</th>\n",
       "      <td>272.980072</td>\n",
       "      <td>101.817924</td>\n",
       "    </tr>\n",
       "    <tr>\n",
       "      <th>sea</th>\n",
       "      <td>581.149475</td>\n",
       "      <td>-178.338715</td>\n",
       "    </tr>\n",
       "    <tr>\n",
       "      <th>bank</th>\n",
       "      <td>-87.588943</td>\n",
       "      <td>86.461304</td>\n",
       "    </tr>\n",
       "    <tr>\n",
       "      <th>[SEP]</th>\n",
       "      <td>-149.925354</td>\n",
       "      <td>18.918293</td>\n",
       "    </tr>\n",
       "  </tbody>\n",
       "</table>\n",
       "</div>"
      ],
      "text/plain": [
       "              tsne_0      tsne_1\n",
       "[CLS]     199.678940   61.658314\n",
       "the      -430.432190   45.061382\n",
       "bank       91.372826  -58.219788\n",
       "robber    -21.180012 -292.097412\n",
       "stopped   105.225029 -170.360413\n",
       "by        -68.107330 -100.020874\n",
       "the        19.358192 -113.914780\n",
       "bank       94.261475  102.464714\n",
       ".         142.263077    4.128197\n",
       "the        22.080217  190.453293\n",
       "bank       -1.791644   90.480835\n",
       "happened    4.740256   -2.591319\n",
       "to       -110.625603  216.657822\n",
       "be       -220.134689   85.620628\n",
       "along    -156.217972  -72.830948\n",
       "the       272.980072  101.817924\n",
       "sea       581.149475 -178.338715\n",
       "bank      -87.588943   86.461304\n",
       "[SEP]    -149.925354   18.918293"
      ]
     },
     "metadata": {},
     "output_type": "display_data"
    }
   ],
   "source": [
    "df = pd.DataFrame(tsne_results, columns=['tsne_0', 'tsne_1'], index=tokens)\n",
    "display(df)"
   ]
  },
  {
   "cell_type": "code",
   "execution_count": 44,
   "metadata": {},
   "outputs": [
    {
     "data": {
      "image/png": "[encoded data removed]",
      "text/plain": [
       "<Figure size 1152x576 with 1 Axes>"
      ]
     },
     "metadata": {
      "needs_background": "light"
     },
     "output_type": "display_data"
    }
   ],
   "source": [
    "plt.figure(figsize=(16,8))\n",
    "sns.scatterplot(\n",
    "    x=\"tsne_0\", y=\"tsne_1\",\n",
    "    data=df,\n",
    "    legend=\"full\"\n",
    ")\n",
    "plt.grid()\n",
    "\n",
    "ax = plt.gca()\n",
    "for (k, v), color in zip(df.iterrows(), token_color):\n",
    "    ax.annotate(k, v, c=color)\n",
    "\n",
    "for idx, (token, color) in enumerate(zip(tokens, token_color)):\n",
    "    plt.text(-400 + idx*50, -400, token, fontsize='medium', color=color)"
   ]
  }
 ],
 "metadata": {
  "kernelspec": {
   "display_name": "nlp",
   "language": "python",
   "name": "nlp"
  },
  "language_info": {
   "codemirror_mode": {
    "name": "ipython",
    "version": 3
   },
   "file_extension": ".py",
   "mimetype": "text/x-python",
   "name": "python",
   "nbconvert_exporter": "python",
   "pygments_lexer": "ipython3",
   "version": "3.8.1"
  }
 },
 "nbformat": 4,
 "nbformat_minor": 4
}
