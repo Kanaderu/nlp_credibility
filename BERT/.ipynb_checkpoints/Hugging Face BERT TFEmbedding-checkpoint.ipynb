{
 "cells": [
  {
   "cell_type": "code",
   "execution_count": 1,
   "metadata": {},
   "outputs": [],
   "source": [
    "import tensorflow as tf\n",
    "from transformers import BertTokenizer, TFBertModel\n",
    "import numpy as np"
   ]
  },
  {
   "cell_type": "code",
   "execution_count": 2,
   "metadata": {},
   "outputs": [
    {
     "data": {
      "application/vnd.jupyter.widget-view+json": {
       "model_id": "4f8d6fb3e50b4356bf8c516a68cb02ce",
       "version_major": 2,
       "version_minor": 0
      },
      "text/plain": [
       "HBox(children=(FloatProgress(value=0.0, description='Downloading', max=536063208.0, style=ProgressStyle(descri…"
      ]
     },
     "metadata": {},
     "output_type": "display_data"
    },
    {
     "name": "stdout",
     "output_type": "stream",
     "text": [
      "\n"
     ]
    }
   ],
   "source": [
    "# tokenizer\n",
    "tokenizer = BertTokenizer.from_pretrained('bert-base-uncased')\n",
    "\n",
    "# model\n",
    "model = TFBertModel.from_pretrained('bert-base-uncased')\n",
    "\n",
    "input_string = \"The bank robber stopped by the bank. The bank happened to be along the sea bank\"\n",
    "encoded_string = tokenizer.encode(input_string)\n",
    "encoded_vector = tf.constant(encoded_string)\n",
    "\n",
    "input_ids = encoded_vector[None, :]  # Batch size 1\n",
    "\n",
    "outputs = model(input_ids)\n",
    "last_hidden_states = outputs[0]  # The last hidden-state is the first element of the output tuple"
   ]
  },
  {
   "cell_type": "code",
   "execution_count": 3,
   "metadata": {},
   "outputs": [
    {
     "data": {
      "text/plain": [
       "30522"
      ]
     },
     "execution_count": 3,
     "metadata": {},
     "output_type": "execute_result"
    }
   ],
   "source": [
    "len(tokenizer.vocab)"
   ]
  },
  {
   "cell_type": "code",
   "execution_count": 11,
   "metadata": {},
   "outputs": [
    {
     "name": "stdout",
     "output_type": "stream",
     "text": [
      "input_string: The bank robber stopped by the bank. The bank happened to be along the sea bank\n",
      "\n",
      "(19,) encoded_string: [101, 1996, 2924, 27307, 3030, 2011, 1996, 2924, 1012, 1996, 2924, 3047, 2000, 2022, 2247, 1996, 2712, 2924, 102]\n",
      "\n",
      "(19,) encoded_vector: [  101  1996  2924 27307  3030  2011  1996  2924  1012  1996  2924  3047\n",
      "  2000  2022  2247  1996  2712  2924   102]\n",
      "\n",
      "(1, 19) input_ids: [[  101  1996  2924 27307  3030  2011  1996  2924  1012  1996  2924  3047\n",
      "   2000  2022  2247  1996  2712  2924   102]]\n",
      "\n",
      "\n",
      "Tokens:\n",
      "['[CLS]', 'the', 'bank', 'robber', 'stopped', 'by', 'the', 'bank', '.', 'the', 'bank', 'happened', 'to', 'be', 'along', 'the', 'sea', 'bank', '[SEP]']\n",
      "Embeddings:\n",
      "tf.Tensor(\n",
      "[[-0.3347612  -0.5901034  -0.07091692 ... -0.49693692 -0.09809066\n",
      "   0.5151099 ]\n",
      " [ 0.03841601 -0.8923289  -0.48943073 ... -0.08100009  1.4962012\n",
      "  -0.21474664]\n",
      " [ 0.9223376  -0.57376796  0.20194161 ... -0.31661728  0.08728813\n",
      "  -0.1817618 ]\n",
      " ...\n",
      " [ 0.3919293  -0.47397652  0.908048   ... -0.17035706  0.32045007\n",
      "  -0.29015663]\n",
      " [-0.10793131 -0.74134916 -0.22944258 ...  0.3517096  -0.0370057\n",
      "   0.14793675]\n",
      " [ 0.668296    0.08665556 -0.37832618 ... -0.0459995  -0.39374685\n",
      "  -0.23037753]], shape=(19, 768), dtype=float32)\n",
      "index locations of \"bank\": [2, 7, 10, 17]\n"
     ]
    }
   ],
   "source": [
    "print(f'input_string: {input_string}')\n",
    "print()\n",
    "print(f'{np.shape(encoded_string)} encoded_string: {encoded_string}')\n",
    "print()\n",
    "print(f'{encoded_vector.shape} encoded_vector: {encoded_vector}')\n",
    "print()\n",
    "print(f'{input_ids.shape} input_ids: {input_ids}')\n",
    "print()\n",
    "#print(f'({outputs[0].size()}, {outputs[1].size()})outputs: {outputs}')\n",
    "print()\n",
    "\n",
    "print('Tokens:')\n",
    "tokens = tokenizer.convert_ids_to_tokens(tf.squeeze(input_ids))\n",
    "print(tokens)\n",
    "\n",
    "print('Embeddings:')\n",
    "embeddings = tf.squeeze(outputs[0])\n",
    "print(embeddings)\n",
    "\n",
    "#print('Tokens -> Embeddings Pair')\n",
    "#for word, vec in zip(tokens, embeddings):\n",
    "#    print(word, vec.detach().numpy()[:5])\n",
    "\n",
    "\n",
    "# locate occurances of bank\n",
    "indices = [i for i, token in enumerate(tokens) if token == \"bank\"]\n",
    "print(f'index locations of \"bank\": {indices}')"
   ]
  },
  {
   "cell_type": "code",
   "execution_count": 12,
   "metadata": {},
   "outputs": [],
   "source": [
    "import matplotlib.pyplot as plt\n",
    "import seaborn as sns\n",
    "from sklearn.manifold import TSNE\n",
    "from sklearn.decomposition import PCA\n",
    "import pandas as pd"
   ]
  },
  {
   "cell_type": "code",
   "execution_count": 16,
   "metadata": {},
   "outputs": [],
   "source": [
    "# vector embeddings of each token\n",
    "vec_embeddings = embeddings.numpy()\n",
    "\n",
    "# color for each token for visuals\n",
    "token_color = [np.random.rand(3,) for _ in range(len(tokens))]"
   ]
  },
  {
   "cell_type": "code",
   "execution_count": 17,
   "metadata": {},
   "outputs": [
    {
     "name": "stdout",
     "output_type": "stream",
     "text": [
      "(19, 2)\n"
     ]
    }
   ],
   "source": [
    "pca = PCA(n_components=2)\n",
    "pca_result = pca.fit_transform(vec_embeddings)\n",
    "print(np.shape(pca_result))"
   ]
  },
  {
   "cell_type": "code",
   "execution_count": 18,
   "metadata": {},
   "outputs": [
    {
     "data": {
      "text/html": [
       "<div>\n",
       "<style scoped>\n",
       "    .dataframe tbody tr th:only-of-type {\n",
       "        vertical-align: middle;\n",
       "    }\n",
       "\n",
       "    .dataframe tbody tr th {\n",
       "        vertical-align: top;\n",
       "    }\n",
       "\n",
       "    .dataframe thead th {\n",
       "        text-align: right;\n",
       "    }\n",
       "</style>\n",
       "<table border=\"1\" class=\"dataframe\">\n",
       "  <thead>\n",
       "    <tr style=\"text-align: right;\">\n",
       "      <th></th>\n",
       "      <th>pca_0</th>\n",
       "      <th>pca_1</th>\n",
       "    </tr>\n",
       "  </thead>\n",
       "  <tbody>\n",
       "    <tr>\n",
       "      <th>[CLS]</th>\n",
       "      <td>-0.756334</td>\n",
       "      <td>3.959754</td>\n",
       "    </tr>\n",
       "    <tr>\n",
       "      <th>the</th>\n",
       "      <td>-0.886366</td>\n",
       "      <td>-3.223484</td>\n",
       "    </tr>\n",
       "    <tr>\n",
       "      <th>bank</th>\n",
       "      <td>-4.370650</td>\n",
       "      <td>4.563832</td>\n",
       "    </tr>\n",
       "    <tr>\n",
       "      <th>robber</th>\n",
       "      <td>-2.621618</td>\n",
       "      <td>0.407248</td>\n",
       "    </tr>\n",
       "    <tr>\n",
       "      <th>stopped</th>\n",
       "      <td>-0.701234</td>\n",
       "      <td>-3.836585</td>\n",
       "    </tr>\n",
       "    <tr>\n",
       "      <th>by</th>\n",
       "      <td>-1.159901</td>\n",
       "      <td>-3.610336</td>\n",
       "    </tr>\n",
       "    <tr>\n",
       "      <th>the</th>\n",
       "      <td>-1.387290</td>\n",
       "      <td>-5.158044</td>\n",
       "    </tr>\n",
       "    <tr>\n",
       "      <th>bank</th>\n",
       "      <td>-4.821455</td>\n",
       "      <td>7.203264</td>\n",
       "    </tr>\n",
       "    <tr>\n",
       "      <th>.</th>\n",
       "      <td>13.171329</td>\n",
       "      <td>2.298323</td>\n",
       "    </tr>\n",
       "    <tr>\n",
       "      <th>the</th>\n",
       "      <td>-1.399611</td>\n",
       "      <td>-6.113313</td>\n",
       "    </tr>\n",
       "    <tr>\n",
       "      <th>bank</th>\n",
       "      <td>-4.533286</td>\n",
       "      <td>6.526656</td>\n",
       "    </tr>\n",
       "    <tr>\n",
       "      <th>happened</th>\n",
       "      <td>0.165278</td>\n",
       "      <td>-6.145339</td>\n",
       "    </tr>\n",
       "    <tr>\n",
       "      <th>to</th>\n",
       "      <td>-0.934651</td>\n",
       "      <td>-6.609754</td>\n",
       "    </tr>\n",
       "    <tr>\n",
       "      <th>be</th>\n",
       "      <td>-1.055117</td>\n",
       "      <td>-2.985426</td>\n",
       "    </tr>\n",
       "    <tr>\n",
       "      <th>along</th>\n",
       "      <td>-0.650659</td>\n",
       "      <td>1.389086</td>\n",
       "    </tr>\n",
       "    <tr>\n",
       "      <th>the</th>\n",
       "      <td>-1.052694</td>\n",
       "      <td>-2.515837</td>\n",
       "    </tr>\n",
       "    <tr>\n",
       "      <th>sea</th>\n",
       "      <td>-1.482114</td>\n",
       "      <td>5.509702</td>\n",
       "    </tr>\n",
       "    <tr>\n",
       "      <th>bank</th>\n",
       "      <td>0.344243</td>\n",
       "      <td>6.320648</td>\n",
       "    </tr>\n",
       "    <tr>\n",
       "      <th>[SEP]</th>\n",
       "      <td>14.132128</td>\n",
       "      <td>2.019602</td>\n",
       "    </tr>\n",
       "  </tbody>\n",
       "</table>\n",
       "</div>"
      ],
      "text/plain": [
       "              pca_0     pca_1\n",
       "[CLS]     -0.756334  3.959754\n",
       "the       -0.886366 -3.223484\n",
       "bank      -4.370650  4.563832\n",
       "robber    -2.621618  0.407248\n",
       "stopped   -0.701234 -3.836585\n",
       "by        -1.159901 -3.610336\n",
       "the       -1.387290 -5.158044\n",
       "bank      -4.821455  7.203264\n",
       ".         13.171329  2.298323\n",
       "the       -1.399611 -6.113313\n",
       "bank      -4.533286  6.526656\n",
       "happened   0.165278 -6.145339\n",
       "to        -0.934651 -6.609754\n",
       "be        -1.055117 -2.985426\n",
       "along     -0.650659  1.389086\n",
       "the       -1.052694 -2.515837\n",
       "sea       -1.482114  5.509702\n",
       "bank       0.344243  6.320648\n",
       "[SEP]     14.132128  2.019602"
      ]
     },
     "metadata": {},
     "output_type": "display_data"
    }
   ],
   "source": [
    "df = pd.DataFrame(pca_result, columns=['pca_0', 'pca_1'], index=tokens)\n",
    "display(df)"
   ]
  },
  {
   "cell_type": "code",
   "execution_count": 19,
   "metadata": {},
   "outputs": [
    {
     "data": {
      "image/png": "[encoded data removed]",
      "text/plain": [
       "<Figure size 1152x576 with 1 Axes>"
      ]
     },
     "metadata": {
      "needs_background": "light"
     },
     "output_type": "display_data"
    }
   ],
   "source": [
    "plt.figure(figsize=(16,8))\n",
    "sns.scatterplot(\n",
    "    x='pca_0', y='pca_1',\n",
    "    data=df,\n",
    "    legend='full'\n",
    ")\n",
    "plt.grid()\n",
    "\n",
    "ax = plt.gca()\n",
    "for (k, v), color in zip(df.iterrows(), token_color):\n",
    "    ax.annotate(k, v, c=color)\n",
    "\n",
    "for idx, (token, color) in enumerate(zip(tokens, token_color)):\n",
    "    plt.text(-7 + idx*1, -10, token, fontsize='medium', color=color)"
   ]
  },
  {
   "cell_type": "code",
   "execution_count": 20,
   "metadata": {},
   "outputs": [
    {
     "name": "stdout",
     "output_type": "stream",
     "text": [
      "(19, 2)\n"
     ]
    }
   ],
   "source": [
    "tsne = TSNE(n_components=2, perplexity=40, n_iter=300)\n",
    "tsne_results = tsne.fit_transform(vec_embeddings)\n",
    "print(np.shape(tsne_results))"
   ]
  },
  {
   "cell_type": "code",
   "execution_count": 21,
   "metadata": {},
   "outputs": [
    {
     "data": {
      "text/html": [
       "<div>\n",
       "<style scoped>\n",
       "    .dataframe tbody tr th:only-of-type {\n",
       "        vertical-align: middle;\n",
       "    }\n",
       "\n",
       "    .dataframe tbody tr th {\n",
       "        vertical-align: top;\n",
       "    }\n",
       "\n",
       "    .dataframe thead th {\n",
       "        text-align: right;\n",
       "    }\n",
       "</style>\n",
       "<table border=\"1\" class=\"dataframe\">\n",
       "  <thead>\n",
       "    <tr style=\"text-align: right;\">\n",
       "      <th></th>\n",
       "      <th>tsne_0</th>\n",
       "      <th>tsne_1</th>\n",
       "    </tr>\n",
       "  </thead>\n",
       "  <tbody>\n",
       "    <tr>\n",
       "      <th>[CLS]</th>\n",
       "      <td>-74.261887</td>\n",
       "      <td>-108.111595</td>\n",
       "    </tr>\n",
       "    <tr>\n",
       "      <th>the</th>\n",
       "      <td>-33.780457</td>\n",
       "      <td>-40.070274</td>\n",
       "    </tr>\n",
       "    <tr>\n",
       "      <th>bank</th>\n",
       "      <td>76.637505</td>\n",
       "      <td>-12.345173</td>\n",
       "    </tr>\n",
       "    <tr>\n",
       "      <th>robber</th>\n",
       "      <td>77.048828</td>\n",
       "      <td>-81.766281</td>\n",
       "    </tr>\n",
       "    <tr>\n",
       "      <th>stopped</th>\n",
       "      <td>-78.885086</td>\n",
       "      <td>56.727612</td>\n",
       "    </tr>\n",
       "    <tr>\n",
       "      <th>by</th>\n",
       "      <td>-60.125038</td>\n",
       "      <td>5.000129</td>\n",
       "    </tr>\n",
       "    <tr>\n",
       "      <th>the</th>\n",
       "      <td>-16.323696</td>\n",
       "      <td>49.627598</td>\n",
       "    </tr>\n",
       "    <tr>\n",
       "      <th>bank</th>\n",
       "      <td>31.469069</td>\n",
       "      <td>-161.778107</td>\n",
       "    </tr>\n",
       "    <tr>\n",
       "      <th>.</th>\n",
       "      <td>-13.324172</td>\n",
       "      <td>-99.969025</td>\n",
       "    </tr>\n",
       "    <tr>\n",
       "      <th>the</th>\n",
       "      <td>-88.944962</td>\n",
       "      <td>114.758354</td>\n",
       "    </tr>\n",
       "    <tr>\n",
       "      <th>bank</th>\n",
       "      <td>-127.057014</td>\n",
       "      <td>13.845406</td>\n",
       "    </tr>\n",
       "    <tr>\n",
       "      <th>happened</th>\n",
       "      <td>-21.793631</td>\n",
       "      <td>110.938911</td>\n",
       "    </tr>\n",
       "    <tr>\n",
       "      <th>to</th>\n",
       "      <td>23.698679</td>\n",
       "      <td>-54.392891</td>\n",
       "    </tr>\n",
       "    <tr>\n",
       "      <th>be</th>\n",
       "      <td>-33.095314</td>\n",
       "      <td>-201.665161</td>\n",
       "    </tr>\n",
       "    <tr>\n",
       "      <th>along</th>\n",
       "      <td>44.276463</td>\n",
       "      <td>51.046425</td>\n",
       "    </tr>\n",
       "    <tr>\n",
       "      <th>the</th>\n",
       "      <td>-101.037094</td>\n",
       "      <td>-49.750465</td>\n",
       "    </tr>\n",
       "    <tr>\n",
       "      <th>sea</th>\n",
       "      <td>14.501066</td>\n",
       "      <td>1.034043</td>\n",
       "    </tr>\n",
       "    <tr>\n",
       "      <th>bank</th>\n",
       "      <td>44.278599</td>\n",
       "      <td>112.741234</td>\n",
       "    </tr>\n",
       "    <tr>\n",
       "      <th>[SEP]</th>\n",
       "      <td>107.573715</td>\n",
       "      <td>48.720852</td>\n",
       "    </tr>\n",
       "  </tbody>\n",
       "</table>\n",
       "</div>"
      ],
      "text/plain": [
       "              tsne_0      tsne_1\n",
       "[CLS]     -74.261887 -108.111595\n",
       "the       -33.780457  -40.070274\n",
       "bank       76.637505  -12.345173\n",
       "robber     77.048828  -81.766281\n",
       "stopped   -78.885086   56.727612\n",
       "by        -60.125038    5.000129\n",
       "the       -16.323696   49.627598\n",
       "bank       31.469069 -161.778107\n",
       ".         -13.324172  -99.969025\n",
       "the       -88.944962  114.758354\n",
       "bank     -127.057014   13.845406\n",
       "happened  -21.793631  110.938911\n",
       "to         23.698679  -54.392891\n",
       "be        -33.095314 -201.665161\n",
       "along      44.276463   51.046425\n",
       "the      -101.037094  -49.750465\n",
       "sea        14.501066    1.034043\n",
       "bank       44.278599  112.741234\n",
       "[SEP]     107.573715   48.720852"
      ]
     },
     "metadata": {},
     "output_type": "display_data"
    }
   ],
   "source": [
    "df = pd.DataFrame(tsne_results, columns=['tsne_0', 'tsne_1'], index=tokens)\n",
    "display(df)"
   ]
  },
  {
   "cell_type": "code",
   "execution_count": 23,
   "metadata": {},
   "outputs": [
    {
     "data": {
      "image/png": "[encoded data removed]",
      "text/plain": [
       "<Figure size 1152x576 with 1 Axes>"
      ]
     },
     "metadata": {
      "needs_background": "light"
     },
     "output_type": "display_data"
    }
   ],
   "source": [
    "plt.figure(figsize=(16,8))\n",
    "sns.scatterplot(\n",
    "    x=\"tsne_0\", y=\"tsne_1\",\n",
    "    data=df,\n",
    "    legend=\"full\"\n",
    ")\n",
    "plt.grid()\n",
    "\n",
    "ax = plt.gca()\n",
    "for (k, v), color in zip(df.iterrows(), token_color):\n",
    "    ax.annotate(k, v, c=color)\n",
    "\n",
    "#for idx, (token, color) in enumerate(zip(tokens, token_color)):\n",
    "#    plt.text(-400 + idx*50, -400, token, fontsize='medium', color=color)"
   ]
  }
 ],
 "metadata": {
  "kernelspec": {
   "display_name": "nlp",
   "language": "python",
   "name": "nlp"
  },
  "language_info": {
   "codemirror_mode": {
    "name": "ipython",
    "version": 3
   },
   "file_extension": ".py",
   "mimetype": "text/x-python",
   "name": "python",
   "nbconvert_exporter": "python",
   "pygments_lexer": "ipython3",
   "version": "3.8.1"
  }
 },
 "nbformat": 4,
 "nbformat_minor": 4
}
