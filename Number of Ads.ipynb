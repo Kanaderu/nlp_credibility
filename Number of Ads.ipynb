{
 "cells": [
  {
   "cell_type": "code",
   "execution_count": 1,
   "metadata": {},
   "outputs": [],
   "source": [
    "import os\n",
    "import csv\n",
    "import numpy as np\n",
    "import pandas as pd"
   ]
  },
  {
   "cell_type": "code",
   "execution_count": 2,
   "metadata": {},
   "outputs": [],
   "source": [
    "files = [\n",
    "    'credco_webconf_study_1_study_1_project_1_2018_02_21t22_43_18_00_00_anon_nolink.csv',\n",
    "    'credco_webconf_study_2_study_2_project_1_2018_02_21t22_44_07_00_00_anon_nolink.csv',\n",
    "    'credco_webconf_study_3_study_3_project_1_2018_02_21t22_44_40_00_00_anon_nolink.csv'\n",
    "]"
   ]
  },
  {
   "cell_type": "code",
   "execution_count": 3,
   "metadata": {},
   "outputs": [
    {
     "name": "stdout",
     "output_type": "stream",
     "text": [
      "['credibilitycoalition-webconf-2018/data/credco_webconf_study_1_study_1_project_1_2018_02_21t22_43_18_00_00_anon_nolink.csv', 'credibilitycoalition-webconf-2018/data/credco_webconf_study_2_study_2_project_1_2018_02_21t22_44_07_00_00_anon_nolink.csv', 'credibilitycoalition-webconf-2018/data/credco_webconf_study_3_study_3_project_1_2018_02_21t22_44_40_00_00_anon_nolink.csv']\n"
     ]
    }
   ],
   "source": [
    "file_paths = [os.path.join('credibilitycoalition-webconf-2018', 'data', file) for file in files]\n",
    "print(file_paths)"
   ]
  },
  {
   "cell_type": "code",
   "execution_count": 4,
   "metadata": {},
   "outputs": [],
   "source": [
    "data = []\n",
    "labels = []\n",
    "for file_path in file_paths:\n",
    "    with open(file_path) as csvfile:\n",
    "        csv_reader = csv.reader(csvfile)\n",
    "        for idx, row in enumerate(csv_reader):\n",
    "            if idx == 0:\n",
    "                labels.append(row)\n",
    "            if idx > 0:\n",
    "                data.append(row)"
   ]
  },
  {
   "cell_type": "code",
   "execution_count": 5,
   "metadata": {},
   "outputs": [],
   "source": [
    "# labels are of different size but the largest one is a superset of all the others\n",
    "# so we'll use the labels array that is the largest in size\n",
    "label = labels[np.argmax([len(label) for label in labels])]"
   ]
  },
  {
   "cell_type": "code",
   "execution_count": 6,
   "metadata": {},
   "outputs": [],
   "source": [
    "# function will extract a column of data given the index\n",
    "get_data_col = lambda data, idx: [col[idx] for col in data if idx < len(col)]\n",
    "\n",
    "# function will extract data columns given titles from the master label\n",
    "get_data_col_from_titles = lambda data, titles, label: [get_data_col(data, label.index(col)) for col in titles] "
   ]
  },
  {
   "cell_type": "markdown",
   "metadata": {},
   "source": [
    "# Get Report Data"
   ]
  },
  {
   "cell_type": "code",
   "execution_count": 7,
   "metadata": {},
   "outputs": [
    {
     "name": "stdout",
     "output_type": "stream",
     "text": [
      "There are 1 report_title_label columns\n",
      "['report_title']\n",
      "There are 1 media_content_label columns\n",
      "['media_content']\n",
      "There are 1 media_urls_label columns\n",
      "['media_url']\n"
     ]
    }
   ],
   "source": [
    "import re\n",
    "\n",
    "r = re.compile('report_title')\n",
    "report_title_labels = list(filter(r.match, label))\n",
    "print('There are {} report_title_label columns'.format(len(report_title_labels)))\n",
    "print(report_title_labels)\n",
    "\n",
    "r = re.compile('media_content')\n",
    "media_content_labels = list(filter(r.match, label))\n",
    "print('There are {} media_content_label columns'.format(len(media_content_labels)))\n",
    "print(media_content_labels)\n",
    "\n",
    "r = re.compile('media_url')\n",
    "media_urls_labels = list(filter(r.match, label))\n",
    "print('There are {} media_urls_label columns'.format(len(media_urls_labels)))\n",
    "print(media_urls_labels)"
   ]
  },
  {
   "cell_type": "code",
   "execution_count": 8,
   "metadata": {},
   "outputs": [
    {
     "name": "stdout",
     "output_type": "stream",
     "text": [
      "There are 150 report_title rows\n",
      "There are 150 media_content rows\n",
      "There are 150 media_url rows\n"
     ]
    }
   ],
   "source": [
    "report_titles = get_data_col_from_titles(data, report_title_labels, label)[0]\n",
    "print('There are {} report_title rows'.format(len(report_titles)))\n",
    "\n",
    "media_content = get_data_col_from_titles(data, media_content_labels, label)[0]\n",
    "print('There are {} media_content rows'.format(len(media_content)))\n",
    "\n",
    "media_urls = get_data_col_from_titles(data, media_urls_labels, label)[0]\n",
    "print('There are {} media_url rows'.format(len(media_urls)))"
   ]
  },
  {
   "cell_type": "code",
   "execution_count": 9,
   "metadata": {},
   "outputs": [
    {
     "name": "stdout",
     "output_type": "stream",
     "text": [
      "There are 47 unique report_title rows\n",
      "There are 46 unique media_content rows\n",
      "There are 50 unique media_url rows\n"
     ]
    }
   ],
   "source": [
    "print('There are {} unique report_title rows'.format(len(set(report_titles))))\n",
    "print('There are {} unique media_content rows'.format(len(set(media_content))))\n",
    "print('There are {} unique media_url rows'.format(len(set(media_urls))))"
   ]
  },
  {
   "cell_type": "code",
   "execution_count": 10,
   "metadata": {
    "collapsed": true,
    "jupyter": {
     "outputs_hidden": true
    }
   },
   "outputs": [
    {
     "name": "stdout",
     "output_type": "stream",
     "text": [
      "Fetching URL: https://www.bbc.com/earth/story/20170504-there-are-diseases-hidden-in-ice-and-they-are-waking-up\n",
      "Fetching URL: https://www.simplemost.com/new-study-says-putting-kids-to-bed-earlier-is-better-for-moms-sanity/\n",
      "Fetching URL: https://www.androidmagazines.info/health-experts-are-warning-people-to-stop-eating-tilapia/\n",
      "Error fetching: https://www.androidmagazines.info/health-experts-are-warning-people-to-stop-eating-tilapia/\n",
      "HTTPSConnectionPool(host='www.androidmagazines.info', port=443): Max retries exceeded with url: /health-experts-are-warning-people-to-stop-eating-tilapia/ (Caused by NewConnectionError('<urllib3.connection.VerifiedHTTPSConnection object at 0x7f8a9625bd10>: Failed to establish a new connection: [Errno -2] Name or service not known'))\n",
      "Fetching URL: http://publichealthabc.com/2-cups-day-1-week-stomach-will-flatter/\n",
      "Fetching URL: https://info.cmsri.org/the-driven-researcher-blog/vaccinated-vs.-unvaccinated-guess-who-is-sicker\n",
      "Fetching URL: http://www.iflscience.com/health-and-medicine/coconut-oil-bad/\n",
      "Fetching URL: https://www.theguardian.com/environment/2017/may/19/arctic-stronghold-of-worlds-seeds-flooded-after-permafrost-melts\n",
      "Fetching URL: http://www.iflscience.com/environment/heavy-monsoon-causing-extreme-flooding-in-south-asia-has-killed-1200-people-so-far/\n",
      "Fetching URL: https://www.nytimes.com/2017/03/23/well/move/the-best-exercise-for-aging-muscles.html\n",
      "Fetching URL: https://www.npr.org/sections/health-shots/2017/07/16/537075018/dirt-is-good-why-kids-need-exposure-to-germs\n",
      "Fetching URL: https://www.independent.co.uk/news/world/asia/india-floods-bangladesh-nepal-deaths-millions-homeless-latest-news-updates-a7919006.html\n",
      "Fetching URL: http://www.breitbart.com/big-government/2017/06/13/delingpole-ship-of-fools-iii-global-warming-study-cancelled-because-of-unprecedented-ice/\n",
      "Fetching URL: https://www.independent.co.uk/life-style/health-and-families/donald-trump-mental-illness-narcisissm-us-president-psychologists-inauguration-crowd-size-paranoia-a7552661.html\n",
      "Fetching URL: https://medicalxpress.com/news/2017-08-reverse-aging-brain.html\n",
      "Fetching URL: https://shareably.net/health-benefits-farting/\n",
      "Fetching URL: https://foodbabe.com/2016/11/15/monsanto/\n",
      "Fetching URL: https://qz.com/1064364/hurricane-harvey-houstons-flooding-made-worse-by-unchecked-urban-development-and-wetland-destruction\n",
      "Fetching URL: https://mic.com/articles/176092/under-the-gop-s-health-plan-sexual-assault-would-be-considered-a-preexisting-condition\n",
      "Fetching URL: https://www.ntd.tv/inspiring/parenting/sam-berns-boy-aging-disease-progeria-dies-17.html\n",
      "Fetching URL: https://worldtruth.tv/the-amish-who-dont-get-vaccinated-rarely-get-autism-cancer-or-heart-disease-coincidence/\n",
      "Fetching URL: https://www.huffingtonpost.com/entry/vivek-murthy-report-on-drugs-and-alcohol_us_582dce19e4b099512f812e9c\n",
      "Fetching URL: https://www.theatlantic.com/health/archive/2017/08/if-everyone-ate-beans-instead-of-beef/535536/\n",
      "Fetching URL: https://mysticalraven.com/health/5110/how-your-finger-shape-determines-your-personality-and-your-health-risks\n",
      "Fetching URL: http://nowcheckthis.com/2017/03/23/confirmed-e-cigarettes-cause-a-horrible-incurable-disease-called-popcorn-lung-worse-than-lung-cancer/\n",
      "Fetching URL: http://www.alternativenewsnetwork.net/lead-developer-hpv-vaccines-comes-clean-warns-parents-young-girls-giant-deadly-scam/\n",
      "Fetching URL: http://www.dailymail.co.uk/~/article-4429790/index.html\n",
      "Fetching URL: https://www.nytimes.com/interactive/2017/06/09/climate/antarctica-rift-update.html\n",
      "Fetching URL: https://www.cnn.com/2017/07/10/health/coffee-leads-to-longer-life-studies-reaffirm/index.html\n"
     ]
    },
    {
     "ename": "KeyboardInterrupt",
     "evalue": "",
     "output_type": "error",
     "traceback": [
      "\u001b[0;31m---------------------------------------------------------------------------\u001b[0m",
      "\u001b[0;31mKeyboardInterrupt\u001b[0m                         Traceback (most recent call last)",
      "\u001b[0;32m<ipython-input-10-fd3e1c064885>\u001b[0m in \u001b[0;36m<module>\u001b[0;34m\u001b[0m\n\u001b[1;32m      8\u001b[0m         \u001b[0ms\u001b[0m \u001b[0;34m=\u001b[0m \u001b[0mrequests\u001b[0m\u001b[0;34m.\u001b[0m\u001b[0mSession\u001b[0m\u001b[0;34m(\u001b[0m\u001b[0;34m)\u001b[0m\u001b[0;34m\u001b[0m\u001b[0;34m\u001b[0m\u001b[0m\n\u001b[1;32m      9\u001b[0m         \u001b[0ms\u001b[0m\u001b[0;34m.\u001b[0m\u001b[0mheaders\u001b[0m\u001b[0;34m[\u001b[0m\u001b[0;34m'User-Agent'\u001b[0m\u001b[0;34m]\u001b[0m \u001b[0;34m=\u001b[0m \u001b[0;34m'Mozilla/5.0 (X11; Linux x86_64) AppleWebKit/537.36 (KHTML, like Gecko) Ubuntu Chromium/34.0.1847.116 Chrome/34.0.1847.116 Safari/537.36'\u001b[0m\u001b[0;34m\u001b[0m\u001b[0;34m\u001b[0m\u001b[0m\n\u001b[0;32m---> 10\u001b[0;31m         \u001b[0mr\u001b[0m \u001b[0;34m=\u001b[0m \u001b[0ms\u001b[0m\u001b[0;34m.\u001b[0m\u001b[0mget\u001b[0m\u001b[0;34m(\u001b[0m\u001b[0murl\u001b[0m\u001b[0;34m)\u001b[0m\u001b[0;34m\u001b[0m\u001b[0;34m\u001b[0m\u001b[0m\n\u001b[0m\u001b[1;32m     11\u001b[0m         \u001b[0;32mif\u001b[0m \u001b[0;32mnot\u001b[0m \u001b[0mr\u001b[0m\u001b[0;34m.\u001b[0m\u001b[0mok\u001b[0m\u001b[0;34m:\u001b[0m\u001b[0;34m\u001b[0m\u001b[0;34m\u001b[0m\u001b[0m\n\u001b[1;32m     12\u001b[0m             \u001b[0minvalid_urls\u001b[0m\u001b[0;34m.\u001b[0m\u001b[0mappend\u001b[0m\u001b[0;34m(\u001b[0m\u001b[0murl\u001b[0m\u001b[0;34m)\u001b[0m\u001b[0;34m\u001b[0m\u001b[0;34m\u001b[0m\u001b[0m\n",
      "\u001b[0;32m~/.conda/envs/nlp/lib/python3.7/site-packages/requests/sessions.py\u001b[0m in \u001b[0;36mget\u001b[0;34m(self, url, **kwargs)\u001b[0m\n\u001b[1;32m    544\u001b[0m \u001b[0;34m\u001b[0m\u001b[0m\n\u001b[1;32m    545\u001b[0m         \u001b[0mkwargs\u001b[0m\u001b[0;34m.\u001b[0m\u001b[0msetdefault\u001b[0m\u001b[0;34m(\u001b[0m\u001b[0;34m'allow_redirects'\u001b[0m\u001b[0;34m,\u001b[0m \u001b[0;32mTrue\u001b[0m\u001b[0;34m)\u001b[0m\u001b[0;34m\u001b[0m\u001b[0;34m\u001b[0m\u001b[0m\n\u001b[0;32m--> 546\u001b[0;31m         \u001b[0;32mreturn\u001b[0m \u001b[0mself\u001b[0m\u001b[0;34m.\u001b[0m\u001b[0mrequest\u001b[0m\u001b[0;34m(\u001b[0m\u001b[0;34m'GET'\u001b[0m\u001b[0;34m,\u001b[0m \u001b[0murl\u001b[0m\u001b[0;34m,\u001b[0m \u001b[0;34m**\u001b[0m\u001b[0mkwargs\u001b[0m\u001b[0;34m)\u001b[0m\u001b[0;34m\u001b[0m\u001b[0;34m\u001b[0m\u001b[0m\n\u001b[0m\u001b[1;32m    547\u001b[0m \u001b[0;34m\u001b[0m\u001b[0m\n\u001b[1;32m    548\u001b[0m     \u001b[0;32mdef\u001b[0m \u001b[0moptions\u001b[0m\u001b[0;34m(\u001b[0m\u001b[0mself\u001b[0m\u001b[0;34m,\u001b[0m \u001b[0murl\u001b[0m\u001b[0;34m,\u001b[0m \u001b[0;34m**\u001b[0m\u001b[0mkwargs\u001b[0m\u001b[0;34m)\u001b[0m\u001b[0;34m:\u001b[0m\u001b[0;34m\u001b[0m\u001b[0;34m\u001b[0m\u001b[0m\n",
      "\u001b[0;32m~/.conda/envs/nlp/lib/python3.7/site-packages/requests/sessions.py\u001b[0m in \u001b[0;36mrequest\u001b[0;34m(self, method, url, params, data, headers, cookies, files, auth, timeout, allow_redirects, proxies, hooks, stream, verify, cert, json)\u001b[0m\n\u001b[1;32m    531\u001b[0m         }\n\u001b[1;32m    532\u001b[0m         \u001b[0msend_kwargs\u001b[0m\u001b[0;34m.\u001b[0m\u001b[0mupdate\u001b[0m\u001b[0;34m(\u001b[0m\u001b[0msettings\u001b[0m\u001b[0;34m)\u001b[0m\u001b[0;34m\u001b[0m\u001b[0;34m\u001b[0m\u001b[0m\n\u001b[0;32m--> 533\u001b[0;31m         \u001b[0mresp\u001b[0m \u001b[0;34m=\u001b[0m \u001b[0mself\u001b[0m\u001b[0;34m.\u001b[0m\u001b[0msend\u001b[0m\u001b[0;34m(\u001b[0m\u001b[0mprep\u001b[0m\u001b[0;34m,\u001b[0m \u001b[0;34m**\u001b[0m\u001b[0msend_kwargs\u001b[0m\u001b[0;34m)\u001b[0m\u001b[0;34m\u001b[0m\u001b[0;34m\u001b[0m\u001b[0m\n\u001b[0m\u001b[1;32m    534\u001b[0m \u001b[0;34m\u001b[0m\u001b[0m\n\u001b[1;32m    535\u001b[0m         \u001b[0;32mreturn\u001b[0m \u001b[0mresp\u001b[0m\u001b[0;34m\u001b[0m\u001b[0;34m\u001b[0m\u001b[0m\n",
      "\u001b[0;32m~/.conda/envs/nlp/lib/python3.7/site-packages/requests/sessions.py\u001b[0m in \u001b[0;36msend\u001b[0;34m(self, request, **kwargs)\u001b[0m\n\u001b[1;32m    684\u001b[0m \u001b[0;34m\u001b[0m\u001b[0m\n\u001b[1;32m    685\u001b[0m         \u001b[0;32mif\u001b[0m \u001b[0;32mnot\u001b[0m \u001b[0mstream\u001b[0m\u001b[0;34m:\u001b[0m\u001b[0;34m\u001b[0m\u001b[0;34m\u001b[0m\u001b[0m\n\u001b[0;32m--> 686\u001b[0;31m             \u001b[0mr\u001b[0m\u001b[0;34m.\u001b[0m\u001b[0mcontent\u001b[0m\u001b[0;34m\u001b[0m\u001b[0;34m\u001b[0m\u001b[0m\n\u001b[0m\u001b[1;32m    687\u001b[0m \u001b[0;34m\u001b[0m\u001b[0m\n\u001b[1;32m    688\u001b[0m         \u001b[0;32mreturn\u001b[0m \u001b[0mr\u001b[0m\u001b[0;34m\u001b[0m\u001b[0;34m\u001b[0m\u001b[0m\n",
      "\u001b[0;32m~/.conda/envs/nlp/lib/python3.7/site-packages/requests/models.py\u001b[0m in \u001b[0;36mcontent\u001b[0;34m(self)\u001b[0m\n\u001b[1;32m    826\u001b[0m                 \u001b[0mself\u001b[0m\u001b[0;34m.\u001b[0m\u001b[0m_content\u001b[0m \u001b[0;34m=\u001b[0m \u001b[0;32mNone\u001b[0m\u001b[0;34m\u001b[0m\u001b[0;34m\u001b[0m\u001b[0m\n\u001b[1;32m    827\u001b[0m             \u001b[0;32melse\u001b[0m\u001b[0;34m:\u001b[0m\u001b[0;34m\u001b[0m\u001b[0;34m\u001b[0m\u001b[0m\n\u001b[0;32m--> 828\u001b[0;31m                 \u001b[0mself\u001b[0m\u001b[0;34m.\u001b[0m\u001b[0m_content\u001b[0m \u001b[0;34m=\u001b[0m \u001b[0;34mb''\u001b[0m\u001b[0;34m.\u001b[0m\u001b[0mjoin\u001b[0m\u001b[0;34m(\u001b[0m\u001b[0mself\u001b[0m\u001b[0;34m.\u001b[0m\u001b[0miter_content\u001b[0m\u001b[0;34m(\u001b[0m\u001b[0mCONTENT_CHUNK_SIZE\u001b[0m\u001b[0;34m)\u001b[0m\u001b[0;34m)\u001b[0m \u001b[0;32mor\u001b[0m \u001b[0;34mb''\u001b[0m\u001b[0;34m\u001b[0m\u001b[0;34m\u001b[0m\u001b[0m\n\u001b[0m\u001b[1;32m    829\u001b[0m \u001b[0;34m\u001b[0m\u001b[0m\n\u001b[1;32m    830\u001b[0m         \u001b[0mself\u001b[0m\u001b[0;34m.\u001b[0m\u001b[0m_content_consumed\u001b[0m \u001b[0;34m=\u001b[0m \u001b[0;32mTrue\u001b[0m\u001b[0;34m\u001b[0m\u001b[0;34m\u001b[0m\u001b[0m\n",
      "\u001b[0;32m~/.conda/envs/nlp/lib/python3.7/site-packages/requests/models.py\u001b[0m in \u001b[0;36mgenerate\u001b[0;34m()\u001b[0m\n\u001b[1;32m    748\u001b[0m             \u001b[0;32mif\u001b[0m \u001b[0mhasattr\u001b[0m\u001b[0;34m(\u001b[0m\u001b[0mself\u001b[0m\u001b[0;34m.\u001b[0m\u001b[0mraw\u001b[0m\u001b[0;34m,\u001b[0m \u001b[0;34m'stream'\u001b[0m\u001b[0;34m)\u001b[0m\u001b[0;34m:\u001b[0m\u001b[0;34m\u001b[0m\u001b[0;34m\u001b[0m\u001b[0m\n\u001b[1;32m    749\u001b[0m                 \u001b[0;32mtry\u001b[0m\u001b[0;34m:\u001b[0m\u001b[0;34m\u001b[0m\u001b[0;34m\u001b[0m\u001b[0m\n\u001b[0;32m--> 750\u001b[0;31m                     \u001b[0;32mfor\u001b[0m \u001b[0mchunk\u001b[0m \u001b[0;32min\u001b[0m \u001b[0mself\u001b[0m\u001b[0;34m.\u001b[0m\u001b[0mraw\u001b[0m\u001b[0;34m.\u001b[0m\u001b[0mstream\u001b[0m\u001b[0;34m(\u001b[0m\u001b[0mchunk_size\u001b[0m\u001b[0;34m,\u001b[0m \u001b[0mdecode_content\u001b[0m\u001b[0;34m=\u001b[0m\u001b[0;32mTrue\u001b[0m\u001b[0;34m)\u001b[0m\u001b[0;34m:\u001b[0m\u001b[0;34m\u001b[0m\u001b[0;34m\u001b[0m\u001b[0m\n\u001b[0m\u001b[1;32m    751\u001b[0m                         \u001b[0;32myield\u001b[0m \u001b[0mchunk\u001b[0m\u001b[0;34m\u001b[0m\u001b[0;34m\u001b[0m\u001b[0m\n\u001b[1;32m    752\u001b[0m                 \u001b[0;32mexcept\u001b[0m \u001b[0mProtocolError\u001b[0m \u001b[0;32mas\u001b[0m \u001b[0me\u001b[0m\u001b[0;34m:\u001b[0m\u001b[0;34m\u001b[0m\u001b[0;34m\u001b[0m\u001b[0m\n",
      "\u001b[0;32m~/.conda/envs/nlp/lib/python3.7/site-packages/urllib3/response.py\u001b[0m in \u001b[0;36mstream\u001b[0;34m(self, amt, decode_content)\u001b[0m\n\u001b[1;32m    562\u001b[0m         \u001b[0;32melse\u001b[0m\u001b[0;34m:\u001b[0m\u001b[0;34m\u001b[0m\u001b[0;34m\u001b[0m\u001b[0m\n\u001b[1;32m    563\u001b[0m             \u001b[0;32mwhile\u001b[0m \u001b[0;32mnot\u001b[0m \u001b[0mis_fp_closed\u001b[0m\u001b[0;34m(\u001b[0m\u001b[0mself\u001b[0m\u001b[0;34m.\u001b[0m\u001b[0m_fp\u001b[0m\u001b[0;34m)\u001b[0m\u001b[0;34m:\u001b[0m\u001b[0;34m\u001b[0m\u001b[0;34m\u001b[0m\u001b[0m\n\u001b[0;32m--> 564\u001b[0;31m                 \u001b[0mdata\u001b[0m \u001b[0;34m=\u001b[0m \u001b[0mself\u001b[0m\u001b[0;34m.\u001b[0m\u001b[0mread\u001b[0m\u001b[0;34m(\u001b[0m\u001b[0mamt\u001b[0m\u001b[0;34m=\u001b[0m\u001b[0mamt\u001b[0m\u001b[0;34m,\u001b[0m \u001b[0mdecode_content\u001b[0m\u001b[0;34m=\u001b[0m\u001b[0mdecode_content\u001b[0m\u001b[0;34m)\u001b[0m\u001b[0;34m\u001b[0m\u001b[0;34m\u001b[0m\u001b[0m\n\u001b[0m\u001b[1;32m    565\u001b[0m \u001b[0;34m\u001b[0m\u001b[0m\n\u001b[1;32m    566\u001b[0m                 \u001b[0;32mif\u001b[0m \u001b[0mdata\u001b[0m\u001b[0;34m:\u001b[0m\u001b[0;34m\u001b[0m\u001b[0;34m\u001b[0m\u001b[0m\n",
      "\u001b[0;32m~/.conda/envs/nlp/lib/python3.7/site-packages/urllib3/response.py\u001b[0m in \u001b[0;36mread\u001b[0;34m(self, amt, decode_content, cache_content)\u001b[0m\n\u001b[1;32m    505\u001b[0m             \u001b[0;32melse\u001b[0m\u001b[0;34m:\u001b[0m\u001b[0;34m\u001b[0m\u001b[0;34m\u001b[0m\u001b[0m\n\u001b[1;32m    506\u001b[0m                 \u001b[0mcache_content\u001b[0m \u001b[0;34m=\u001b[0m \u001b[0;32mFalse\u001b[0m\u001b[0;34m\u001b[0m\u001b[0;34m\u001b[0m\u001b[0m\n\u001b[0;32m--> 507\u001b[0;31m                 \u001b[0mdata\u001b[0m \u001b[0;34m=\u001b[0m \u001b[0mself\u001b[0m\u001b[0;34m.\u001b[0m\u001b[0m_fp\u001b[0m\u001b[0;34m.\u001b[0m\u001b[0mread\u001b[0m\u001b[0;34m(\u001b[0m\u001b[0mamt\u001b[0m\u001b[0;34m)\u001b[0m \u001b[0;32mif\u001b[0m \u001b[0;32mnot\u001b[0m \u001b[0mfp_closed\u001b[0m \u001b[0;32melse\u001b[0m \u001b[0;34mb\"\"\u001b[0m\u001b[0;34m\u001b[0m\u001b[0;34m\u001b[0m\u001b[0m\n\u001b[0m\u001b[1;32m    508\u001b[0m                 if (\n\u001b[1;32m    509\u001b[0m                     \u001b[0mamt\u001b[0m \u001b[0;34m!=\u001b[0m \u001b[0;36m0\u001b[0m \u001b[0;32mand\u001b[0m \u001b[0;32mnot\u001b[0m \u001b[0mdata\u001b[0m\u001b[0;34m\u001b[0m\u001b[0;34m\u001b[0m\u001b[0m\n",
      "\u001b[0;32m~/.conda/envs/nlp/lib/python3.7/http/client.py\u001b[0m in \u001b[0;36mread\u001b[0;34m(self, amt)\u001b[0m\n\u001b[1;32m    455\u001b[0m             \u001b[0;31m# Amount is given, implement using readinto\u001b[0m\u001b[0;34m\u001b[0m\u001b[0;34m\u001b[0m\u001b[0;34m\u001b[0m\u001b[0m\n\u001b[1;32m    456\u001b[0m             \u001b[0mb\u001b[0m \u001b[0;34m=\u001b[0m \u001b[0mbytearray\u001b[0m\u001b[0;34m(\u001b[0m\u001b[0mamt\u001b[0m\u001b[0;34m)\u001b[0m\u001b[0;34m\u001b[0m\u001b[0;34m\u001b[0m\u001b[0m\n\u001b[0;32m--> 457\u001b[0;31m             \u001b[0mn\u001b[0m \u001b[0;34m=\u001b[0m \u001b[0mself\u001b[0m\u001b[0;34m.\u001b[0m\u001b[0mreadinto\u001b[0m\u001b[0;34m(\u001b[0m\u001b[0mb\u001b[0m\u001b[0;34m)\u001b[0m\u001b[0;34m\u001b[0m\u001b[0;34m\u001b[0m\u001b[0m\n\u001b[0m\u001b[1;32m    458\u001b[0m             \u001b[0;32mreturn\u001b[0m \u001b[0mmemoryview\u001b[0m\u001b[0;34m(\u001b[0m\u001b[0mb\u001b[0m\u001b[0;34m)\u001b[0m\u001b[0;34m[\u001b[0m\u001b[0;34m:\u001b[0m\u001b[0mn\u001b[0m\u001b[0;34m]\u001b[0m\u001b[0;34m.\u001b[0m\u001b[0mtobytes\u001b[0m\u001b[0;34m(\u001b[0m\u001b[0;34m)\u001b[0m\u001b[0;34m\u001b[0m\u001b[0;34m\u001b[0m\u001b[0m\n\u001b[1;32m    459\u001b[0m         \u001b[0;32melse\u001b[0m\u001b[0;34m:\u001b[0m\u001b[0;34m\u001b[0m\u001b[0;34m\u001b[0m\u001b[0m\n",
      "\u001b[0;32m~/.conda/envs/nlp/lib/python3.7/http/client.py\u001b[0m in \u001b[0;36mreadinto\u001b[0;34m(self, b)\u001b[0m\n\u001b[1;32m    499\u001b[0m         \u001b[0;31m# connection, and the user is reading more bytes than will be provided\u001b[0m\u001b[0;34m\u001b[0m\u001b[0;34m\u001b[0m\u001b[0;34m\u001b[0m\u001b[0m\n\u001b[1;32m    500\u001b[0m         \u001b[0;31m# (for example, reading in 1k chunks)\u001b[0m\u001b[0;34m\u001b[0m\u001b[0;34m\u001b[0m\u001b[0;34m\u001b[0m\u001b[0m\n\u001b[0;32m--> 501\u001b[0;31m         \u001b[0mn\u001b[0m \u001b[0;34m=\u001b[0m \u001b[0mself\u001b[0m\u001b[0;34m.\u001b[0m\u001b[0mfp\u001b[0m\u001b[0;34m.\u001b[0m\u001b[0mreadinto\u001b[0m\u001b[0;34m(\u001b[0m\u001b[0mb\u001b[0m\u001b[0;34m)\u001b[0m\u001b[0;34m\u001b[0m\u001b[0;34m\u001b[0m\u001b[0m\n\u001b[0m\u001b[1;32m    502\u001b[0m         \u001b[0;32mif\u001b[0m \u001b[0;32mnot\u001b[0m \u001b[0mn\u001b[0m \u001b[0;32mand\u001b[0m \u001b[0mb\u001b[0m\u001b[0;34m:\u001b[0m\u001b[0;34m\u001b[0m\u001b[0;34m\u001b[0m\u001b[0m\n\u001b[1;32m    503\u001b[0m             \u001b[0;31m# Ideally, we would raise IncompleteRead if the content-length\u001b[0m\u001b[0;34m\u001b[0m\u001b[0;34m\u001b[0m\u001b[0;34m\u001b[0m\u001b[0m\n",
      "\u001b[0;32m~/.conda/envs/nlp/lib/python3.7/socket.py\u001b[0m in \u001b[0;36mreadinto\u001b[0;34m(self, b)\u001b[0m\n\u001b[1;32m    587\u001b[0m         \u001b[0;32mwhile\u001b[0m \u001b[0;32mTrue\u001b[0m\u001b[0;34m:\u001b[0m\u001b[0;34m\u001b[0m\u001b[0;34m\u001b[0m\u001b[0m\n\u001b[1;32m    588\u001b[0m             \u001b[0;32mtry\u001b[0m\u001b[0;34m:\u001b[0m\u001b[0;34m\u001b[0m\u001b[0;34m\u001b[0m\u001b[0m\n\u001b[0;32m--> 589\u001b[0;31m                 \u001b[0;32mreturn\u001b[0m \u001b[0mself\u001b[0m\u001b[0;34m.\u001b[0m\u001b[0m_sock\u001b[0m\u001b[0;34m.\u001b[0m\u001b[0mrecv_into\u001b[0m\u001b[0;34m(\u001b[0m\u001b[0mb\u001b[0m\u001b[0;34m)\u001b[0m\u001b[0;34m\u001b[0m\u001b[0;34m\u001b[0m\u001b[0m\n\u001b[0m\u001b[1;32m    590\u001b[0m             \u001b[0;32mexcept\u001b[0m \u001b[0mtimeout\u001b[0m\u001b[0;34m:\u001b[0m\u001b[0;34m\u001b[0m\u001b[0;34m\u001b[0m\u001b[0m\n\u001b[1;32m    591\u001b[0m                 \u001b[0mself\u001b[0m\u001b[0;34m.\u001b[0m\u001b[0m_timeout_occurred\u001b[0m \u001b[0;34m=\u001b[0m \u001b[0;32mTrue\u001b[0m\u001b[0;34m\u001b[0m\u001b[0;34m\u001b[0m\u001b[0m\n",
      "\u001b[0;32m~/.conda/envs/nlp/lib/python3.7/ssl.py\u001b[0m in \u001b[0;36mrecv_into\u001b[0;34m(self, buffer, nbytes, flags)\u001b[0m\n\u001b[1;32m   1069\u001b[0m                   \u001b[0;34m\"non-zero flags not allowed in calls to recv_into() on %s\"\u001b[0m \u001b[0;34m%\u001b[0m\u001b[0;34m\u001b[0m\u001b[0;34m\u001b[0m\u001b[0m\n\u001b[1;32m   1070\u001b[0m                   self.__class__)\n\u001b[0;32m-> 1071\u001b[0;31m             \u001b[0;32mreturn\u001b[0m \u001b[0mself\u001b[0m\u001b[0;34m.\u001b[0m\u001b[0mread\u001b[0m\u001b[0;34m(\u001b[0m\u001b[0mnbytes\u001b[0m\u001b[0;34m,\u001b[0m \u001b[0mbuffer\u001b[0m\u001b[0;34m)\u001b[0m\u001b[0;34m\u001b[0m\u001b[0;34m\u001b[0m\u001b[0m\n\u001b[0m\u001b[1;32m   1072\u001b[0m         \u001b[0;32melse\u001b[0m\u001b[0;34m:\u001b[0m\u001b[0;34m\u001b[0m\u001b[0;34m\u001b[0m\u001b[0m\n\u001b[1;32m   1073\u001b[0m             \u001b[0;32mreturn\u001b[0m \u001b[0msuper\u001b[0m\u001b[0;34m(\u001b[0m\u001b[0;34m)\u001b[0m\u001b[0;34m.\u001b[0m\u001b[0mrecv_into\u001b[0m\u001b[0;34m(\u001b[0m\u001b[0mbuffer\u001b[0m\u001b[0;34m,\u001b[0m \u001b[0mnbytes\u001b[0m\u001b[0;34m,\u001b[0m \u001b[0mflags\u001b[0m\u001b[0;34m)\u001b[0m\u001b[0;34m\u001b[0m\u001b[0;34m\u001b[0m\u001b[0m\n",
      "\u001b[0;32m~/.conda/envs/nlp/lib/python3.7/ssl.py\u001b[0m in \u001b[0;36mread\u001b[0;34m(self, len, buffer)\u001b[0m\n\u001b[1;32m    927\u001b[0m         \u001b[0;32mtry\u001b[0m\u001b[0;34m:\u001b[0m\u001b[0;34m\u001b[0m\u001b[0;34m\u001b[0m\u001b[0m\n\u001b[1;32m    928\u001b[0m             \u001b[0;32mif\u001b[0m \u001b[0mbuffer\u001b[0m \u001b[0;32mis\u001b[0m \u001b[0;32mnot\u001b[0m \u001b[0;32mNone\u001b[0m\u001b[0;34m:\u001b[0m\u001b[0;34m\u001b[0m\u001b[0;34m\u001b[0m\u001b[0m\n\u001b[0;32m--> 929\u001b[0;31m                 \u001b[0;32mreturn\u001b[0m \u001b[0mself\u001b[0m\u001b[0;34m.\u001b[0m\u001b[0m_sslobj\u001b[0m\u001b[0;34m.\u001b[0m\u001b[0mread\u001b[0m\u001b[0;34m(\u001b[0m\u001b[0mlen\u001b[0m\u001b[0;34m,\u001b[0m \u001b[0mbuffer\u001b[0m\u001b[0;34m)\u001b[0m\u001b[0;34m\u001b[0m\u001b[0;34m\u001b[0m\u001b[0m\n\u001b[0m\u001b[1;32m    930\u001b[0m             \u001b[0;32melse\u001b[0m\u001b[0;34m:\u001b[0m\u001b[0;34m\u001b[0m\u001b[0;34m\u001b[0m\u001b[0m\n\u001b[1;32m    931\u001b[0m                 \u001b[0;32mreturn\u001b[0m \u001b[0mself\u001b[0m\u001b[0;34m.\u001b[0m\u001b[0m_sslobj\u001b[0m\u001b[0;34m.\u001b[0m\u001b[0mread\u001b[0m\u001b[0;34m(\u001b[0m\u001b[0mlen\u001b[0m\u001b[0;34m)\u001b[0m\u001b[0;34m\u001b[0m\u001b[0;34m\u001b[0m\u001b[0m\n",
      "\u001b[0;31mKeyboardInterrupt\u001b[0m: "
     ]
    }
   ],
   "source": [
    "import requests\n",
    "#from bs4 import BeautifulSoup\n",
    "\n",
    "invalid_urls = []\n",
    "for url in set(media_urls):\n",
    "    print('Fetching URL: {}'.format(url))\n",
    "    try:\n",
    "        s = requests.Session()\n",
    "        s.headers['User-Agent'] = 'Mozilla/5.0 (X11; Linux x86_64) AppleWebKit/537.36 (KHTML, like Gecko) Ubuntu Chromium/34.0.1847.116 Chrome/34.0.1847.116 Safari/537.36'\n",
    "        r = s.get(url)\n",
    "        if not r.ok:\n",
    "            invalid_urls.append(url)\n",
    "    except Exception as e:\n",
    "        print('Error fetching: {}'.format(url))\n",
    "        print(e)\n",
    "        invalid_urls.append(url)\n",
    "    finally:\n",
    "        s.close()"
   ]
  },
  {
   "cell_type": "markdown",
   "metadata": {},
   "source": [
    "### Check Invalid URLs"
   ]
  },
  {
   "cell_type": "code",
   "execution_count": null,
   "metadata": {},
   "outputs": [],
   "source": [
    "#[print(invalid_url) for invalid_url in invalid_urls]\n",
    "[print(invalid_url) for invalid_url in set(invalid_urls)]\n",
    "print('Number of invalid urls: {}'.format(len(invalid_urls)))\n",
    "print('Number of unique invalid urls: {}'.format(len(set(invalid_urls))))"
   ]
  },
  {
   "cell_type": "code",
   "execution_count": null,
   "metadata": {},
   "outputs": [],
   "source": [
    "media_urls_set = [url for url in set(media_urls)]\n",
    "report_titles_set = [title for title in set(report_titles)]\n",
    "media_content_set = [content for content in set(media_content)]"
   ]
  },
  {
   "cell_type": "code",
   "execution_count": null,
   "metadata": {},
   "outputs": [],
   "source": [
    "print(len(media_urls_set))\n",
    "print(len(report_titles_set))\n",
    "print(len(media_content_set))"
   ]
  },
  {
   "cell_type": "code",
   "execution_count": null,
   "metadata": {},
   "outputs": [],
   "source": [
    "# print csv data from invalid urls\n",
    "for invalid_url in invalid_urls:\n",
    "    idx = media_urls.index(invalid_url)\n",
    "    print(media_urls[idx])\n",
    "    print(report_titles[idx])\n",
    "    print(media_content[idx])\n",
    "    print('')"
   ]
  },
  {
   "cell_type": "markdown",
   "metadata": {},
   "source": [
    "## Get Annotated Results for Number of Ads"
   ]
  },
  {
   "cell_type": "code",
   "execution_count": 48,
   "metadata": {},
   "outputs": [
    {
     "name": "stdout",
     "output_type": "stream",
     "text": [
      "There are 1 ad_question_labels columns\n",
      "['task_question_17']\n",
      "There are 1 ad_answer_labels columns\n",
      "['task_answer_17']\n"
     ]
    }
   ],
   "source": [
    "r = re.compile('task_question_17')\n",
    "ad_question_labels = list(filter(r.match, label))\n",
    "print('There are {} ad_question_labels columns'.format(len(ad_question_labels)))\n",
    "print(ad_question_labels)\n",
    "\n",
    "r = re.compile('task_answer_17')\n",
    "ad_answer_labels = list(filter(r.match, label))\n",
    "print('There are {} ad_answer_labels columns'.format(len(ad_answer_labels)))\n",
    "print(ad_answer_labels)"
   ]
  },
  {
   "cell_type": "code",
   "execution_count": 50,
   "metadata": {},
   "outputs": [
    {
     "name": "stdout",
     "output_type": "stream",
     "text": [
      "There are 150 ad_question rows\n",
      "There are 150 ad_answers rows\n"
     ]
    }
   ],
   "source": [
    "ad_question = get_data_col_from_titles(data, ad_question_labels, label)[0]\n",
    "print('There are {} ad_question rows'.format(len(ad_question)))\n",
    "\n",
    "ad_answer = get_data_col_from_titles(data, ad_answer_labels, label)[0]\n",
    "print('There are {} ad_answers rows'.format(len(ad_answer)))"
   ]
  },
  {
   "cell_type": "code",
   "execution_count": 54,
   "metadata": {},
   "outputs": [
    {
     "name": "stdout",
     "output_type": "stream",
     "text": [
      "1 https://www.independent.co.uk/news/world/asia/india-floods-bangladesh-nepal-deaths-millions-homeless-latest-news-updates-a7919006.html\n",
      "8 https://www.ntd.tv/inspiring/life/9-sleeping-positions-improve-health.html\n",
      "4 https://qz.com/1064364/hurricane-harvey-houstons-flooding-made-worse-by-unchecked-urban-development-and-wetland-destruction\n",
      "5 https://www.independent.co.uk/life-style/health-and-families/donald-trump-mental-illness-narcisissm-us-president-psychologists-inauguration-crowd-size-paranoia-a7552661.html\n",
      "0 https://info.cmsri.org/the-driven-researcher-blog/vaccinated-vs.-unvaccinated-guess-who-is-sicker\n",
      "5 https://medicalxpress.com/news/2017-08-reverse-aging-brain.html\n",
      "4 http://www.nationspressph.com/2017/02/pls-share-do-not-eat-this-fish-it-is.html\n",
      "20 https://dailyhealthpost.com/preventing-alzheimers/\n",
      "4 https://ewao.com/2017/09/16/six-pharmaceutical-medicines-that-instantly-make-your-health-worse/\n",
      "4 https://mic.com/articles/176092/under-the-gop-s-health-plan-sexual-assault-would-be-considered-a-preexisting-condition\n",
      "3 https://dailyoccupation.com/2017/06/12/world-renowned-heart-surgeon-speaks-really-causes-heart-disease/\n",
      "5 https://www.usatoday.com/story/news/nation-now/2017/06/16/coconut-oil-isnt-healthy-its-never-been-healthy/402719001/\n",
      "4 http://inshapetoday.com/now-official-fda-announced-vaccines-causing-autism/\n",
      "3 http://nowcheckthis.com/2017/03/23/confirmed-e-cigarettes-cause-a-horrible-incurable-disease-called-popcorn-lung-worse-than-lung-cancer/\n",
      "6 https://en.newsner.com/mom-s-warning-is-spreading-like-wildfire-scented-candles-are-harmful-your-baby-s-health/about/family\n",
      "3 https://www.littlethings.com/hand-food-and-mouth-disease/\n",
      "6 https://ewao.com/2017/08/16/johns-hopkins-researcher-releases-shocking-report-on-flu-vaccines/\n",
      "4 https://mysticalraven.com/health/5110/how-your-finger-shape-determines-your-personality-and-your-health-risks\n",
      "0 https://foodbabe.com/2016/11/15/monsanto/\n",
      "25 https://www.naturalnews.com/2017-10-02-lone-gunman-theory-of-las-vegas-shooter-is-complete-nonsense-stephen-paddock.html\n",
      "3 https://www.bbc.com/earth/story/20170504-there-are-diseases-hidden-in-ice-and-they-are-waking-up\n",
      "2 http://www.wfaa.com/news/health/resorts-in-mexico-suspected-of-drugging-tourists/458170922\n",
      "0 http://www.alternativenewsnetwork.net/lead-developer-hpv-vaccines-comes-clean-warns-parents-young-girls-giant-deadly-scam/\n",
      "14 https://www.androidmagazines.info/health-experts-are-warning-people-to-stop-eating-tilapia/\n",
      "3 https://shareably.net/health-benefits-farting/\n",
      "2 https://electrek.co/2016/11/10/tesla-made-more-money-last-quarter-than-the-entire-us-oil-industry-made-last-year\n",
      "2 https://www.cnn.com/2017/07/10/health/coffee-leads-to-longer-life-studies-reaffirm/index.html\n",
      "3 https://www.simplemost.com/new-study-says-putting-kids-to-bed-earlier-is-better-for-moms-sanity/\n",
      "4 https://www.theatlantic.com/health/archive/2017/08/if-everyone-ate-beans-instead-of-beef/535536/\n",
      "9 http://publichealthabc.com/2-cups-day-1-week-stomach-will-flatter/\n",
      "4 https://awarenessact.com/stop-calling-your-drug-addiction-a-disease/\n",
      "25 https://www.naturalnews.com/2017-10-02-five-things-that-just-dont-add-up-about-the-las-vegas-mass-shooting.html\n",
      "1 https://www.npr.org/sections/health-shots/2017/07/16/537075018/dirt-is-good-why-kids-need-exposure-to-germs\n",
      "2 http://www.wate.com/news/national-world/measles-making-comeback-as-parents-opt-out-of-vaccines/792747092\n",
      "3 https://www.nytimes.com/2017/03/22/climate/arctic-winter-sea-ice-record-low-global-warming.html\n",
      "4 http://www.iflscience.com/environment/heavy-monsoon-causing-extreme-flooding-in-south-asia-has-killed-1200-people-so-far/\n",
      "4 https://www.nytimes.com/interactive/2017/06/09/climate/antarctica-rift-update.html\n",
      "4 https://www.nytimes.com/2017/03/23/well/move/the-best-exercise-for-aging-muscles.html\n",
      "3 https://www.theguardian.com/environment/2017/may/19/arctic-stronghold-of-worlds-seeds-flooded-after-permafrost-melts\n",
      "2 https://www.healthspiritbody.com/lyme-disease-treatment/\n",
      "7 https://www.today.com/health/birth-order-first-borns-get-intellectual-advantage-t108042\n",
      "6 http://www.breitbart.com/big-government/2017/06/13/delingpole-ship-of-fools-iii-global-warming-study-cancelled-because-of-unprecedented-ice/\n",
      "3 http://goodfullness.net/which-banana-would-you-eat-your-answer-may-have-an-effect-on-your-health/\n",
      "8 https://www.ntd.tv/inspiring/parenting/sam-berns-boy-aging-disease-progeria-dies-17.html\n",
      "6 http://www.iflscience.com/health-and-medicine/coconut-oil-bad/\n",
      "1 https://www.nytimes.com/2017/02/08/opinion/how-the-anti-vaxxers-are-winning.html\n",
      "2 https://www.huffingtonpost.com/entry/vivek-murthy-report-on-drugs-and-alcohol_us_582dce19e4b099512f812e9c\n",
      "7 https://www.collective-evolution.com/2017/01/25/study-finds-stevia-kills-lyme-disease-pathogen-better-than-antibiotics/\n",
      "3 http://www.dailymail.co.uk/~/article-4429790/index.html\n",
      "12 https://worldtruth.tv/the-amish-who-dont-get-vaccinated-rarely-get-autism-cancer-or-heart-disease-coincidence/\n",
      "4 https://www.independent.co.uk/news/world/asia/india-floods-bangladesh-nepal-deaths-millions-homeless-latest-news-updates-a7919006.html\n",
      "5 https://ewao.com/2017/08/16/johns-hopkins-researcher-releases-shocking-report-on-flu-vaccines/\n",
      "6 https://www.usatoday.com/story/news/nation-now/2017/06/16/coconut-oil-isnt-healthy-its-never-been-healthy/402719001/\n",
      "4 https://mysticalraven.com/health/5110/how-your-finger-shape-determines-your-personality-and-your-health-risks\n",
      "3 http://inshapetoday.com/now-official-fda-announced-vaccines-causing-autism/\n",
      "0 https://foodbabe.com/2016/11/15/monsanto/\n",
      "3 http://nowcheckthis.com/2017/03/23/confirmed-e-cigarettes-cause-a-horrible-incurable-disease-called-popcorn-lung-worse-than-lung-cancer/\n",
      "3 https://www.bbc.com/earth/story/20170504-there-are-diseases-hidden-in-ice-and-they-are-waking-up\n",
      "5 https://en.newsner.com/mom-s-warning-is-spreading-like-wildfire-scented-candles-are-harmful-your-baby-s-health/about/family\n",
      "4 http://www.wfaa.com/news/health/resorts-in-mexico-suspected-of-drugging-tourists/458170922\n",
      "4 https://www.littlethings.com/hand-food-and-mouth-disease/\n",
      "1 http://www.alternativenewsnetwork.net/lead-developer-hpv-vaccines-comes-clean-warns-parents-young-girls-giant-deadly-scam/\n",
      "3 https://www.naturalnews.com/2017-10-02-lone-gunman-theory-of-las-vegas-shooter-is-complete-nonsense-stephen-paddock.html\n",
      "10 https://www.androidmagazines.info/health-experts-are-warning-people-to-stop-eating-tilapia/\n",
      "6 https://shareably.net/health-benefits-farting/\n",
      "3 https://electrek.co/2016/11/10/tesla-made-more-money-last-quarter-than-the-entire-us-oil-industry-made-last-year\n",
      "3 https://www.simplemost.com/new-study-says-putting-kids-to-bed-earlier-is-better-for-moms-sanity/\n",
      "4 https://www.theatlantic.com/health/archive/2017/08/if-everyone-ate-beans-instead-of-beef/535536/\n",
      "3 https://www.cnn.com/2017/07/10/health/coffee-leads-to-longer-life-studies-reaffirm/index.html\n",
      "5 https://qz.com/1064364/hurricane-harvey-houstons-flooding-made-worse-by-unchecked-urban-development-and-wetland-destruction\n",
      "2 https://dailyoccupation.com/2017/06/12/world-renowned-heart-surgeon-speaks-really-causes-heart-disease/\n",
      "4 https://www.independent.co.uk/life-style/health-and-families/donald-trump-mental-illness-narcisissm-us-president-psychologists-inauguration-crowd-size-paranoia-a7552661.html\n",
      "2 https://info.cmsri.org/the-driven-researcher-blog/vaccinated-vs.-unvaccinated-guess-who-is-sicker\n",
      "5 https://medicalxpress.com/news/2017-08-reverse-aging-brain.html\n",
      "4 http://www.nationspressph.com/2017/02/pls-share-do-not-eat-this-fish-it-is.html\n",
      "12 https://dailyhealthpost.com/preventing-alzheimers/\n",
      "5 https://mic.com/articles/176092/under-the-gop-s-health-plan-sexual-assault-would-be-considered-a-preexisting-condition\n",
      "5 https://www.nytimes.com/2017/03/23/well/move/the-best-exercise-for-aging-muscles.html\n",
      "3 https://www.theguardian.com/environment/2017/may/19/arctic-stronghold-of-worlds-seeds-flooded-after-permafrost-melts\n",
      "7 http://publichealthabc.com/2-cups-day-1-week-stomach-will-flatter/\n",
      "8 https://www.ntd.tv/inspiring/life/9-sleeping-positions-improve-health.html\n",
      "6 https://www.today.com/health/birth-order-first-borns-get-intellectual-advantage-t108042\n",
      "6 http://www.breitbart.com/big-government/2017/06/13/delingpole-ship-of-fools-iii-global-warming-study-cancelled-because-of-unprecedented-ice/\n",
      "4 https://www.ntd.tv/inspiring/parenting/sam-berns-boy-aging-disease-progeria-dies-17.html\n",
      "7 http://www.iflscience.com/health-and-medicine/coconut-oil-bad/\n",
      "4 https://ewao.com/2017/09/16/six-pharmaceutical-medicines-that-instantly-make-your-health-worse/\n",
      "2 https://www.huffingtonpost.com/entry/vivek-murthy-report-on-drugs-and-alcohol_us_582dce19e4b099512f812e9c\n",
      "0 https://awarenessact.com/stop-calling-your-drug-addiction-a-disease/\n",
      "4 https://www.naturalnews.com/2017-10-02-five-things-that-just-dont-add-up-about-the-las-vegas-mass-shooting.html\n",
      "1 https://www.npr.org/sections/health-shots/2017/07/16/537075018/dirt-is-good-why-kids-need-exposure-to-germs\n",
      "5 https://www.collective-evolution.com/2017/01/25/study-finds-stevia-kills-lyme-disease-pathogen-better-than-antibiotics/\n",
      "4 https://www.nytimes.com/2017/02/08/opinion/how-the-anti-vaxxers-are-winning.html\n",
      "23 http://www.dailymail.co.uk/~/article-4429790/index.html\n",
      "3 http://goodfullness.net/which-banana-would-you-eat-your-answer-may-have-an-effect-on-your-health/\n",
      "2 https://www.healthspiritbody.com/lyme-disease-treatment/\n",
      "3 https://www.nytimes.com/interactive/2017/06/09/climate/antarctica-rift-update.html\n",
      "7 http://www.iflscience.com/environment/heavy-monsoon-causing-extreme-flooding-in-south-asia-has-killed-1200-people-so-far/\n",
      "4 https://www.nytimes.com/2017/03/22/climate/arctic-winter-sea-ice-record-low-global-warming.html\n",
      "4 http://www.wate.com/news/national-world/measles-making-comeback-as-parents-opt-out-of-vaccines/792747092\n",
      "1 https://worldtruth.tv/the-amish-who-dont-get-vaccinated-rarely-get-autism-cancer-or-heart-disease-coincidence/\n",
      "6 https://ewao.com/2017/08/16/johns-hopkins-researcher-releases-shocking-report-on-flu-vaccines/\n",
      "1 https://www.independent.co.uk/news/world/asia/india-floods-bangladesh-nepal-deaths-millions-homeless-latest-news-updates-a7919006.html\n",
      "6 https://www.usatoday.com/story/news/nation-now/2017/06/16/coconut-oil-isnt-healthy-its-never-been-healthy/402719001/\n",
      "3 https://mysticalraven.com/health/5110/how-your-finger-shape-determines-your-personality-and-your-health-risks\n",
      "3 https://www.cnn.com/2017/07/10/health/coffee-leads-to-longer-life-studies-reaffirm/index.html\n",
      "0 https://foodbabe.com/2016/11/15/monsanto/\n",
      "2 http://nowcheckthis.com/2017/03/23/confirmed-e-cigarettes-cause-a-horrible-incurable-disease-called-popcorn-lung-worse-than-lung-cancer/\n",
      "4 http://www.wfaa.com/news/health/resorts-in-mexico-suspected-of-drugging-tourists/458170922\n",
      "2 https://www.bbc.com/earth/story/20170504-there-are-diseases-hidden-in-ice-and-they-are-waking-up\n",
      "2 http://inshapetoday.com/now-official-fda-announced-vaccines-causing-autism/\n",
      "4 https://en.newsner.com/mom-s-warning-is-spreading-like-wildfire-scented-candles-are-harmful-your-baby-s-health/about/family\n",
      "2 https://www.littlethings.com/hand-food-and-mouth-disease/\n",
      "3 http://www.alternativenewsnetwork.net/lead-developer-hpv-vaccines-comes-clean-warns-parents-young-girls-giant-deadly-scam/\n",
      "18 https://www.naturalnews.com/2017-10-02-lone-gunman-theory-of-las-vegas-shooter-is-complete-nonsense-stephen-paddock.html\n",
      "5 https://www.androidmagazines.info/health-experts-are-warning-people-to-stop-eating-tilapia/\n",
      "3 https://shareably.net/health-benefits-farting/\n",
      "1 https://electrek.co/2016/11/10/tesla-made-more-money-last-quarter-than-the-entire-us-oil-industry-made-last-year\n",
      "2 https://www.simplemost.com/new-study-says-putting-kids-to-bed-earlier-is-better-for-moms-sanity/\n",
      "4 https://www.theatlantic.com/health/archive/2017/08/if-everyone-ate-beans-instead-of-beef/535536/\n",
      "3 http://publichealthabc.com/2-cups-day-1-week-stomach-will-flatter/\n",
      " https://www.ntd.tv/inspiring/life/9-sleeping-positions-improve-health.html\n",
      "3 https://medicalxpress.com/news/2017-08-reverse-aging-brain.html\n",
      "6 https://ewao.com/2017/09/16/six-pharmaceutical-medicines-that-instantly-make-your-health-worse/\n",
      "3 https://dailyoccupation.com/2017/06/12/world-renowned-heart-surgeon-speaks-really-causes-heart-disease/\n",
      "1 https://info.cmsri.org/the-driven-researcher-blog/vaccinated-vs.-unvaccinated-guess-who-is-sicker\n",
      "5 https://qz.com/1064364/hurricane-harvey-houstons-flooding-made-worse-by-unchecked-urban-development-and-wetland-destruction\n",
      "5 https://www.independent.co.uk/life-style/health-and-families/donald-trump-mental-illness-narcisissm-us-president-psychologists-inauguration-crowd-size-paranoia-a7552661.html\n",
      "3 http://www.nationspressph.com/2017/02/pls-share-do-not-eat-this-fish-it-is.html\n",
      " https://dailyhealthpost.com/preventing-alzheimers/\n",
      "2 https://mic.com/articles/176092/under-the-gop-s-health-plan-sexual-assault-would-be-considered-a-preexisting-condition\n",
      "0 https://www.nytimes.com/2017/03/23/well/move/the-best-exercise-for-aging-muscles.html\n",
      "0 https://www.theguardian.com/environment/2017/may/19/arctic-stronghold-of-worlds-seeds-flooded-after-permafrost-melts\n",
      "0 https://www.today.com/health/birth-order-first-borns-get-intellectual-advantage-t108042\n",
      "0 http://www.breitbart.com/big-government/2017/06/13/delingpole-ship-of-fools-iii-global-warming-study-cancelled-because-of-unprecedented-ice/\n",
      "0 https://www.ntd.tv/inspiring/parenting/sam-berns-boy-aging-disease-progeria-dies-17.html\n",
      "0 http://www.iflscience.com/health-and-medicine/coconut-oil-bad/\n",
      "0 https://www.huffingtonpost.com/entry/vivek-murthy-report-on-drugs-and-alcohol_us_582dce19e4b099512f812e9c\n",
      "0 https://awarenessact.com/stop-calling-your-drug-addiction-a-disease/\n",
      "12 https://www.naturalnews.com/2017-10-02-five-things-that-just-dont-add-up-about-the-las-vegas-mass-shooting.html\n",
      "0 https://www.npr.org/sections/health-shots/2017/07/16/537075018/dirt-is-good-why-kids-need-exposure-to-germs\n",
      "1 https://www.collective-evolution.com/2017/01/25/study-finds-stevia-kills-lyme-disease-pathogen-better-than-antibiotics/\n",
      "0 http://www.dailymail.co.uk/~/article-4429790/index.html\n",
      "0 https://www.nytimes.com/2017/03/22/climate/arctic-winter-sea-ice-record-low-global-warming.html\n",
      "0 http://www.iflscience.com/environment/heavy-monsoon-causing-extreme-flooding-in-south-asia-has-killed-1200-people-so-far/\n",
      "0 https://www.nytimes.com/interactive/2017/06/09/climate/antarctica-rift-update.html\n",
      "0 https://www.healthspiritbody.com/lyme-disease-treatment/\n",
      "0 http://goodfullness.net/which-banana-would-you-eat-your-answer-may-have-an-effect-on-your-health/\n",
      "0 https://www.nytimes.com/2017/02/08/opinion/how-the-anti-vaxxers-are-winning.html\n",
      "0 https://worldtruth.tv/the-amish-who-dont-get-vaccinated-rarely-get-autism-cancer-or-heart-disease-coincidence/\n",
      "0 http://www.wate.com/news/national-world/measles-making-comeback-as-parents-opt-out-of-vaccines/792747092\n"
     ]
    }
   ],
   "source": [
    "for title, url, n_ads in zip(report_titles, media_urls, ad_answer):\n",
    "    print(n_ads, url)"
   ]
  },
  {
   "cell_type": "markdown",
   "metadata": {},
   "source": [
    "# Count Ads"
   ]
  },
  {
   "cell_type": "code",
   "execution_count": 21,
   "metadata": {},
   "outputs": [
    {
     "name": "stdout",
     "output_type": "stream",
     "text": [
      "https://www.independent.co.uk/life-style/health-and-families/donald-trump-mental-illness-narcisissm-us-president-psychologists-inauguration-crowd-size-paranoia-a7552661.html\n",
      "<Response [200]>\n"
     ]
    }
   ],
   "source": [
    "from bs4 import BeautifulSoup\n",
    "\n",
    "url = media_urls[3]\n",
    "print(url)\n",
    "\n",
    "s = requests.Session()\n",
    "s.headers['User-Agent'] = 'Mozilla/5.0 (X11; Linux x86_64) AppleWebKit/537.36 (KHTML, like Gecko) Ubuntu Chromium/34.0.1847.116 Chrome/34.0.1847.116 Safari/537.36'\n",
    "r = s.get(url)\n",
    "if r.ok:\n",
    "    print(r)"
   ]
  },
  {
   "cell_type": "code",
   "execution_count": 25,
   "metadata": {},
   "outputs": [],
   "source": [
    "soup = BeautifulSoup(r.content, 'html')\n",
    "#print(soup.prettify()) # print the parsed data of html"
   ]
  },
  {
   "cell_type": "code",
   "execution_count": 43,
   "metadata": {},
   "outputs": [
    {
     "name": "stdout",
     "output_type": "stream",
     "text": [
      "Found 12 tags\n",
      "0 <div class=\"ad-wrapper ad-wrapper--mobile ad-wrapper--mpu0\" id=\"mpu0ArticleBody\">\n",
      "</div>\n",
      "1 <div class=\"ad-wrapper ad-wrapper--teads\" style=\"margin-bottom: 20px\"><div id=\"teads-inread\"></div></div>\n",
      "2 <div class=\"ad-wrapper ad-wrapper--mobile\" id=\"teads-amp-ad\">\n",
      "<amp-ad class=\"desktop-hidden ad-center i-amphtml-layout-responsive i-amphtml-layout-size-defined\" data-slot=\"/71347885/_main_independent/in_life_style/in_health_and_families/in_health_and_families_article\" data-use-same-domain-rendering-until-deprecated=\"\" height=\"1\" i-amphtml-layout=\"responsive\" json='{\"targeting\":{\"tile\":\"teads\",\"gs_channels\":[\"esi_safe\",\"safe_from_nestle_blacklist\",\"safe_from_emirates_blacklist\",\"shadow9hu7_safe_from_essence_blacklist\",\"gv_safe\",\"gv_safe_adult\",\"gv_safe_arms\",\"gv_safe_crime\",\"gv_safe_death_injury\",\"gv_safe_download\",\"gv_safe_drugs\",\"gv_safe_hatespeech\",\"gv_safe_military\",\"gv_safe_obscenity\",\"gv_safe_terrorism\",\"gv_safe_tobacco\",\"pos_amazon_carnival_row_01\",\"pos_amazon_carnival_row_02\",\"pos_amazon_carnival_row_03\",\"pos_amazon_carnival_row_04\",\"pos_animal_cruelty\",\"pos_apple\",\"pos_asda_2020\",\"pos_british_airways_oct19\",\"pos_castroljuly\",\"pos_coronavirus2019_covid19\",\"pos_google\",\"pos_inskin_safe\",\"pos_keyword_blacklist_microsoft\",\"pos_lner_block_v3\",\"pos_microsoft_jan2020\",\"pos_nestle_blacklist_mar20\",\"pos_nestle_blacklist_v2\",\"pos_nestle_channel4dispatches_feb20\",\"pos_santander_cycles\",\"pos_saudi_aramco_feb20\",\"pos_society_lgbt\",\"pos_terrorism_blacklist\",\"pos_three_mobile_dec19\",\"pos_three_mobile_jan20\",\"pos_vitality_oct19\",\"pos_ysl\",\"safe_from_aegis_blacklist\",\"safe_from_asda\",\"safe_from_facebook_blacklist\",\"safe_from_mobkoi_facebook_keyword\",\"safe_from_workdayh2\",\"shadow9hu7_pos_loop_me\",\"gs_politics\",\"shadow9hu7_pos_disney_mar20\",\"gs_politics_american\",\"betway_blocklistapril\",\"skyonecurfew_block\",\"gs_politics_misc\",\"gs_health_misc\",\"neg_omg_spotx\",\"health_cold_flu_season\",\"shadow9hu7_pos_o2_oct19\"],\"docFormat\":\"amp\",\"article\":\"7552661\",\"pagetype\":\"video\",\"topictags\":[\"donaldj_trump\",\"mentalillness\",\"mentalhealth\"]}}' layout=\"responsive\" rtc-config='{\"vendors\":{\"indexexchange\":{\"SITE_ID\":\"197232\"}},\"urls\":[],\"timeoutMillis\":750}' type=\"doubleclick\" width=\"300\"><i-amphtml-sizer style=\"display:block;padding-top:0.3333%;\"></i-amphtml-sizer>\n",
      "</amp-ad>\n",
      "</div>\n",
      "3 <div class=\"ad-wrapper ad-wrapper--inline-taboola ad-wrapper--mobile\" data-sort-time=\"\" id=\"taboola-carousel-thumbnails\">\n",
      "<amp-embed class=\"desktop-hidden i-amphtml-layout-responsive i-amphtml-layout-size-defined\" data-article=\"auto\" data-mode=\"alternating-thumbnails-d1\" data-placement=\"Carousel Thumbnails\" data-publisher=\"eslmedia-theindependent\" data-target_type=\"mix\" height=\"300\" i-amphtml-layout=\"responsive\" layout=\"responsive\" type=\"taboola\" width=\"300\"><i-amphtml-sizer style=\"display:block;padding-top:100.0000%;\"></i-amphtml-sizer>\n",
      "</amp-embed>\n",
      "</div>\n",
      "4 <div class=\"ad-wrapper ad-wrapper--apester ad-wrapper--mobile js-mobile-placeholder--apester\"></div>\n",
      "5 <div class=\"gallery-ad\" id=\"mpu5-5194596\"></div>\n",
      "6 <div class=\"ad-perform js-ad-placeholder js-ad-placeholder--perform\"></div>\n",
      "7 <div class=\"ad-wrapper ad-wrapper--mobile\">\n",
      "<amp-ad class=\"desktop-hidden ad-center i-amphtml-layout-fixed i-amphtml-layout-size-defined\" data-slot=\"/71347885/_main_independent/in_life_style/in_health_and_families/in_health_and_families_article\" height=\"258\" i-amphtml-layout=\"fixed\" json='{\n",
      "      \"targeting\":{\n",
      "        \"tile\": \"mpu8\",\n",
      "        \"share\": \"f936e1d9\",\n",
      "        \"gs_channels\": [\"esi_safe,safe_from_nestle_blacklist,safe_from_emirates_blacklist,shadow9hu7_safe_from_essence_blacklist,gv_safe,gv_safe_adult,gv_safe_arms,gv_safe_crime,gv_safe_death_injury,gv_safe_download,gv_safe_drugs,gv_safe_hatespeech,gv_safe_military,gv_safe_obscenity,gv_safe_terrorism,gv_safe_tobacco,pos_amazon_carnival_row_01,pos_amazon_carnival_row_02,pos_amazon_carnival_row_03,pos_amazon_carnival_row_04,pos_animal_cruelty,pos_apple,pos_asda_2020,pos_british_airways_oct19,pos_castroljuly,pos_coronavirus2019_covid19,pos_google,pos_inskin_safe,pos_keyword_blacklist_microsoft,pos_lner_block_v3,pos_microsoft_jan2020,pos_nestle_blacklist_mar20,pos_nestle_blacklist_v2,pos_nestle_channel4dispatches_feb20,pos_santander_cycles,pos_saudi_aramco_feb20,pos_society_lgbt,pos_terrorism_blacklist,pos_three_mobile_dec19,pos_three_mobile_jan20,pos_vitality_oct19,pos_ysl,safe_from_aegis_blacklist,safe_from_asda,safe_from_facebook_blacklist,safe_from_mobkoi_facebook_keyword,safe_from_workdayh2,shadow9hu7_pos_loop_me,gs_politics,shadow9hu7_pos_disney_mar20,gs_politics_american,betway_blocklistapril,skyonecurfew_block,gs_politics_misc,gs_health_misc,neg_omg_spotx,health_cold_flu_season,shadow9hu7_pos_o2_oct19\"],\n",
      "        \"docFormat\": \"amp\",\n",
      "        \"article\": \"7552661\",\n",
      "        \"pagetype\": \"video\",\n",
      "        \"topictags\": [\"donaldj_trump,mentalillness,mentalhealth\"]\n",
      "      }\n",
      "    }' layout=\"fixed\" rtc-config='{\"vendors\":{\"indexexchange\":{\"SITE_ID\":\"197232\"}},\"urls\":[],\"timeoutMillis\":750}' style=\"width:300px;height:258px;\" type=\"doubleclick\" width=\"300\">\n",
      "</amp-ad>\n",
      "</div>\n",
      "8 <div class=\"ad-wrapper ad-wrapper--mobile\">\n",
      "<amp-ad class=\"desktop-hidden ad-center i-amphtml-layout-fixed i-amphtml-layout-size-defined\" data-slot=\"/71347885/_main_independent/in_life_style/in_health_and_families/in_health_and_families_article\" height=\"258\" i-amphtml-layout=\"fixed\" json='{\n",
      "      \"targeting\":{\n",
      "        \"tile\": \"mpu8\",\n",
      "        \"share\": \"f936e1d9\",\n",
      "        \"gs_channels\": [\"esi_safe,safe_from_nestle_blacklist,safe_from_emirates_blacklist,shadow9hu7_safe_from_essence_blacklist,gv_safe,gv_safe_adult,gv_safe_arms,gv_safe_crime,gv_safe_death_injury,gv_safe_download,gv_safe_drugs,gv_safe_hatespeech,gv_safe_military,gv_safe_obscenity,gv_safe_terrorism,gv_safe_tobacco,pos_amazon_carnival_row_01,pos_amazon_carnival_row_02,pos_amazon_carnival_row_03,pos_amazon_carnival_row_04,pos_animal_cruelty,pos_apple,pos_asda_2020,pos_british_airways_oct19,pos_castroljuly,pos_coronavirus2019_covid19,pos_google,pos_inskin_safe,pos_keyword_blacklist_microsoft,pos_lner_block_v3,pos_microsoft_jan2020,pos_nestle_blacklist_mar20,pos_nestle_blacklist_v2,pos_nestle_channel4dispatches_feb20,pos_santander_cycles,pos_saudi_aramco_feb20,pos_society_lgbt,pos_terrorism_blacklist,pos_three_mobile_dec19,pos_three_mobile_jan20,pos_vitality_oct19,pos_ysl,safe_from_aegis_blacklist,safe_from_asda,safe_from_facebook_blacklist,safe_from_mobkoi_facebook_keyword,safe_from_workdayh2,shadow9hu7_pos_loop_me,gs_politics,shadow9hu7_pos_disney_mar20,gs_politics_american,betway_blocklistapril,skyonecurfew_block,gs_politics_misc,gs_health_misc,neg_omg_spotx,health_cold_flu_season,shadow9hu7_pos_o2_oct19\"],\n",
      "        \"docFormat\": \"amp\",\n",
      "        \"article\": \"7552661\",\n",
      "        \"pagetype\": \"video\",\n",
      "        \"topictags\": [\"donaldj_trump,mentalillness,mentalhealth\"]\n",
      "      }\n",
      "    }' layout=\"fixed\" rtc-config='{\"vendors\":{\"indexexchange\":{\"SITE_ID\":\"197232\"}},\"urls\":[],\"timeoutMillis\":750}' style=\"width:300px;height:258px;\" type=\"doubleclick\" width=\"300\">\n",
      "</amp-ad>\n",
      "</div>\n",
      "9 <div class=\"ad-wrapper ad-wrapper--mobile\">\n",
      "<amp-ad class=\"desktop-hidden ad-center i-amphtml-layout-fixed i-amphtml-layout-size-defined\" data-slot=\"/71347885/_main_independent/in_life_style/in_health_and_families/in_health_and_families_article\" height=\"258\" i-amphtml-layout=\"fixed\" json='{\n",
      "      \"targeting\":{\n",
      "        \"tile\": \"mpu8\",\n",
      "        \"share\": \"f936e1d9\",\n",
      "        \"gs_channels\": [\"esi_safe,safe_from_nestle_blacklist,safe_from_emirates_blacklist,shadow9hu7_safe_from_essence_blacklist,gv_safe,gv_safe_adult,gv_safe_arms,gv_safe_crime,gv_safe_death_injury,gv_safe_download,gv_safe_drugs,gv_safe_hatespeech,gv_safe_military,gv_safe_obscenity,gv_safe_terrorism,gv_safe_tobacco,pos_amazon_carnival_row_01,pos_amazon_carnival_row_02,pos_amazon_carnival_row_03,pos_amazon_carnival_row_04,pos_animal_cruelty,pos_apple,pos_asda_2020,pos_british_airways_oct19,pos_castroljuly,pos_coronavirus2019_covid19,pos_google,pos_inskin_safe,pos_keyword_blacklist_microsoft,pos_lner_block_v3,pos_microsoft_jan2020,pos_nestle_blacklist_mar20,pos_nestle_blacklist_v2,pos_nestle_channel4dispatches_feb20,pos_santander_cycles,pos_saudi_aramco_feb20,pos_society_lgbt,pos_terrorism_blacklist,pos_three_mobile_dec19,pos_three_mobile_jan20,pos_vitality_oct19,pos_ysl,safe_from_aegis_blacklist,safe_from_asda,safe_from_facebook_blacklist,safe_from_mobkoi_facebook_keyword,safe_from_workdayh2,shadow9hu7_pos_loop_me,gs_politics,shadow9hu7_pos_disney_mar20,gs_politics_american,betway_blocklistapril,skyonecurfew_block,gs_politics_misc,gs_health_misc,neg_omg_spotx,health_cold_flu_season,shadow9hu7_pos_o2_oct19\"],\n",
      "        \"docFormat\": \"amp\",\n",
      "        \"article\": \"7552661\",\n",
      "        \"pagetype\": \"video\",\n",
      "        \"topictags\": [\"donaldj_trump,mentalillness,mentalhealth\"]\n",
      "      }\n",
      "    }' layout=\"fixed\" rtc-config='{\"vendors\":{\"indexexchange\":{\"SITE_ID\":\"197232\"}},\"urls\":[],\"timeoutMillis\":750}' style=\"width:300px;height:258px;\" type=\"doubleclick\" width=\"300\">\n",
      "</amp-ad>\n",
      "</div>\n",
      "10 <div class=\"ad-wrapper ad-wrapper--mobile\">\n",
      "<amp-ad class=\"desktop-hidden ad-center i-amphtml-layout-fixed i-amphtml-layout-size-defined\" data-slot=\"/71347885/_main_independent/in_life_style/in_health_and_families/in_health_and_families_article\" height=\"258\" i-amphtml-layout=\"fixed\" json='{\n",
      "      \"targeting\":{\n",
      "        \"tile\": \"mpu8\",\n",
      "        \"share\": \"f936e1d9\",\n",
      "        \"gs_channels\": [\"esi_safe,safe_from_nestle_blacklist,safe_from_emirates_blacklist,shadow9hu7_safe_from_essence_blacklist,gv_safe,gv_safe_adult,gv_safe_arms,gv_safe_crime,gv_safe_death_injury,gv_safe_download,gv_safe_drugs,gv_safe_hatespeech,gv_safe_military,gv_safe_obscenity,gv_safe_terrorism,gv_safe_tobacco,pos_amazon_carnival_row_01,pos_amazon_carnival_row_02,pos_amazon_carnival_row_03,pos_amazon_carnival_row_04,pos_animal_cruelty,pos_apple,pos_asda_2020,pos_british_airways_oct19,pos_castroljuly,pos_coronavirus2019_covid19,pos_google,pos_inskin_safe,pos_keyword_blacklist_microsoft,pos_lner_block_v3,pos_microsoft_jan2020,pos_nestle_blacklist_mar20,pos_nestle_blacklist_v2,pos_nestle_channel4dispatches_feb20,pos_santander_cycles,pos_saudi_aramco_feb20,pos_society_lgbt,pos_terrorism_blacklist,pos_three_mobile_dec19,pos_three_mobile_jan20,pos_vitality_oct19,pos_ysl,safe_from_aegis_blacklist,safe_from_asda,safe_from_facebook_blacklist,safe_from_mobkoi_facebook_keyword,safe_from_workdayh2,shadow9hu7_pos_loop_me,gs_politics,shadow9hu7_pos_disney_mar20,gs_politics_american,betway_blocklistapril,skyonecurfew_block,gs_politics_misc,gs_health_misc,neg_omg_spotx,health_cold_flu_season,shadow9hu7_pos_o2_oct19\"],\n",
      "        \"docFormat\": \"amp\",\n",
      "        \"article\": \"7552661\",\n",
      "        \"pagetype\": \"video\",\n",
      "        \"topictags\": [\"donaldj_trump,mentalillness,mentalhealth\"]\n",
      "      }\n",
      "    }' layout=\"fixed\" rtc-config='{\"vendors\":{\"indexexchange\":{\"SITE_ID\":\"197232\"}},\"urls\":[],\"timeoutMillis\":750}' style=\"width:300px;height:258px;\" type=\"doubleclick\" width=\"300\">\n",
      "</amp-ad>\n",
      "</div>\n",
      "11 <div class=\"sidebar-item sidebar-item-ad sticky\">\n",
      "<div class=\"ad-wrapper\" id=\"mpu7\">\n",
      "</div>\n",
      "</div>\n"
     ]
    }
   ],
   "source": [
    "# assume that adds are wrapped in a <div> tag and has the start of the word \"ad\" in it\n",
    "re_soup = soup.find_all('div', class_=re.compile('[^\\w]ad'))\n",
    "\n",
    "print('Found {} tags'.format(len(re_soup)))\n",
    "for idx, result in enumerate(re_soup):\n",
    "    print(idx, result)"
   ]
  }
 ],
 "metadata": {
  "kernelspec": {
   "display_name": "nlp",
   "language": "python",
   "name": "nlp"
  },
  "language_info": {
   "codemirror_mode": {
    "name": "ipython",
    "version": 3
   },
   "file_extension": ".py",
   "mimetype": "text/x-python",
   "name": "python",
   "nbconvert_exporter": "python",
   "pygments_lexer": "ipython3",
   "version": "3.7.6"
  }
 },
 "nbformat": 4,
 "nbformat_minor": 4
}
